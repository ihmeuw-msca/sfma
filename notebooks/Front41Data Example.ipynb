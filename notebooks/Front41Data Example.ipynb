{
 "cells": [
  {
   "cell_type": "code",
   "execution_count": null,
   "metadata": {},
   "outputs": [],
   "source": [
    "import pandas as pd\n",
    "from sfma.api import SFMAModel\n",
    "\n",
    "import matplotlib.pyplot as plt\n",
    "import matplotlib"
   ]
  },
  {
   "cell_type": "code",
   "execution_count": null,
   "metadata": {},
   "outputs": [],
   "source": [
    "df = pd.read_csv(\"../front41Data.csv\")\n",
    "df['int'] = 1."
   ]
  },
  {
   "cell_type": "code",
   "execution_count": null,
   "metadata": {},
   "outputs": [],
   "source": [
    "df.head()"
   ]
  },
  {
   "cell_type": "code",
   "execution_count": null,
   "metadata": {},
   "outputs": [],
   "source": [
    "model = SFMAModel(\n",
    "    df=df,\n",
    "    col_output='output',\n",
    "    col_se='int',\n",
    "    col_input='capital',\n",
    "    concave=True,\n",
    "    # include_gamma=True,\n",
    "    increasing=True,\n",
    "    pct_trimming=0.0\n",
    ")\n",
    "model_trimming = SFMAModel(\n",
    "    df=df,\n",
    "    col_output='output',\n",
    "    col_se='int',\n",
    "    col_input='capital',\n",
    "    concave=True,\n",
    "    # include_gamma=True,\n",
    "    increasing=True,\n",
    "    pct_trimming=0.1\n",
    ")"
   ]
  },
  {
   "cell_type": "code",
   "execution_count": null,
   "metadata": {},
   "outputs": [],
   "source": [
    "model.fit(options={'solver_options': {}})\n",
    "model_trimming.fit(options={'solver_options': {}})"
   ]
  },
  {
   "cell_type": "code",
   "execution_count": null,
   "metadata": {},
   "outputs": [],
   "source": [
    "preds = model.predict()\n",
    "trimming_preds = model_trimming.predict()\n",
    "df['predictions'] = preds\n",
    "df['predictions_trimmed'] = trimming_preds"
   ]
  },
  {
   "cell_type": "code",
   "execution_count": null,
   "metadata": {},
   "outputs": [],
   "source": [
    "fig, ax = plt.subplots(1, 1, figsize=(16, 8))\n",
    "ax.scatter(df['capital'], df['predictions'], color='red')\n",
    "ax.scatter(df['capital'], df['predictions_trimmed'], color='purple')\n",
    "ax.scatter(df['capital'], df['output'], c=model_trimming.marginal_model.w)"
   ]
  },
  {
   "cell_type": "code",
   "execution_count": null,
   "metadata": {},
   "outputs": [],
   "source": []
  },
  {
   "cell_type": "code",
   "execution_count": null,
   "metadata": {},
   "outputs": [],
   "source": []
  }
 ],
 "metadata": {
  "kernelspec": {
   "display_name": "Python 3 (ipykernel)",
   "language": "python",
   "name": "python3"
  },
  "language_info": {
   "codemirror_mode": {
    "name": "ipython",
    "version": 3
   },
   "file_extension": ".py",
   "mimetype": "text/x-python",
   "name": "python",
   "nbconvert_exporter": "python",
   "pygments_lexer": "ipython3",
   "version": "3.8.2"
  }
 },
 "nbformat": 4,
 "nbformat_minor": 4
}
