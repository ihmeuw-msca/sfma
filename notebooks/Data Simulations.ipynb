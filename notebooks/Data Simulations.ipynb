{
 "cells": [
  {
   "cell_type": "code",
   "execution_count": null,
   "metadata": {},
   "outputs": [],
   "source": [
    "import numpy as np\n",
    "import pandas as pd\n",
    "from scipy.stats import halfnorm\n",
    "from scipy.stats import expon\n",
    "from scipy import stats\n",
    "import matplotlib.pyplot as plt\n",
    "import matplotlib\n",
    "\n",
    "from sfma.api import SFMAModel"
   ]
  },
  {
   "cell_type": "code",
   "execution_count": null,
   "metadata": {},
   "outputs": [],
   "source": [
    "class Simulator:\n",
    "    def __init__(self, nu: int, gamma: int, sigma_min: float, sigma_max: float,\n",
    "                 x: callable, func: callable, ineff_dist: str = 'half-normal'):\n",
    "        \"\"\"\n",
    "        Simulation class for stochastic frontier meta-analysis.\n",
    "        \n",
    "        nu\n",
    "            The scale of the inefficiency term\n",
    "        gamma\n",
    "            The variance of the random effect term\n",
    "        sigma_min, sigma_max\n",
    "            The study-specific errors, max and minimum. They will be drawn from a uniform distribution.\n",
    "        x\n",
    "            A callable function to generate a realization from a random variable x (is the covariate used\n",
    "            to construct the frontier). Needs to have an argument size.\n",
    "        func\n",
    "            A function of x that defines the frontier\n",
    "        ineff_dist\n",
    "            Inefficiency distribution\n",
    "        \"\"\"\n",
    "        self.nu = nu\n",
    "        self.gamma = gamma\n",
    "        self.sigma_min = sigma_min\n",
    "        self.sigma_max = sigma_max\n",
    "        self.x = x\n",
    "        self.func = func\n",
    "        \n",
    "        if ineff_dist == 'half-normal':\n",
    "            self.rvs = halfnorm.rvs\n",
    "        elif ineff_dist == 'exponential':\n",
    "            self.rvs = expon.rvs\n",
    "        else:\n",
    "            raise RuntimeError(\"Inefficiency distribution must be half-normal or exponential\")\n",
    "    \n",
    "    def simulate(self, n: int = 1, **kwargs):\n",
    "        np.random.seed(365)\n",
    "        sigma = stats.uniform.rvs(loc=self.sigma_min, scale=self.sigma_max, size=n)\n",
    "        epsilon = stats.norm.rvs(loc=0, scale=sigma, size=n)\n",
    "        \n",
    "        us = stats.norm.rvs(loc=0, scale=self.gamma, size=n)\n",
    "        vs = self.rvs(scale=self.nu, size=n)\n",
    "        \n",
    "        xs = self.x(size=n, **kwargs)\n",
    "        front = self.func(xs)\n",
    "        observed = front + us - vs + epsilon\n",
    "        return us, vs, epsilon, sigma, xs, front, observed"
   ]
  },
  {
   "cell_type": "code",
   "execution_count": null,
   "metadata": {},
   "outputs": [],
   "source": [
    "np.random.seed(150)"
   ]
  },
  {
   "cell_type": "markdown",
   "metadata": {},
   "source": [
    "## Figure 1"
   ]
  },
  {
   "cell_type": "markdown",
   "metadata": {},
   "source": [
    "Data generating process"
   ]
  },
  {
   "cell_type": "code",
   "execution_count": null,
   "metadata": {},
   "outputs": [],
   "source": [
    "s = Simulator(nu=1, gamma=0.25, sigma_min=0, sigma_max=0.75, \n",
    "              x=lambda size: stats.uniform.rvs(size=size, loc=0.5), func=lambda x: np.log(x) + 10)\n",
    "us, vs, epsilon, sigma, xs, front, observed = s.simulate(n = 30)\n",
    "\n",
    "x_front = np.linspace(xs.min(), xs.max())\n",
    "y_front = s.func(np.linspace(xs.min(), xs.max()))\n",
    "\n",
    "ymin = observed.min() - 0.5\n",
    "ymax = observed.max() + 0.5"
   ]
  },
  {
   "cell_type": "code",
   "execution_count": null,
   "metadata": {},
   "outputs": [],
   "source": [
    "fig = plt.figure(constrained_layout=True, figsize=(15, 10))\n",
    "\n",
    "gs = fig.add_gridspec(3, 2)\n",
    "ax0 = fig.add_subplot(gs[0, :-1])\n",
    "ax1 = fig.add_subplot(gs[0, -1])\n",
    "ax2 = fig.add_subplot(gs[1, :-1])\n",
    "ax3 = fig.add_subplot(gs[1, -1])\n",
    "ax4 = fig.add_subplot(gs[2, :])\n",
    "\n",
    "ax0.scatter(xs, front, color='grey')\n",
    "ax0.plot(x_front, y_front, color='black', label='frontier')\n",
    "ax0.set_ylim([ymin, ymax])\n",
    "ax0.legend(loc='upper left')\n",
    "ax0.set_ylabel(\"Output Value\")\n",
    "\n",
    "ax1.plot(x_front, y_front, color='black')\n",
    "ax1.vlines(xs, ymin=front, ymax=front+us, color='blue', label='random effect')\n",
    "pos_change = us > 0\n",
    "ax1.scatter(xs[pos_change], (front+us)[pos_change], color='blue', marker='^')\n",
    "ax1.scatter(xs[~pos_change], (front+us)[~pos_change], color='blue', marker='v')\n",
    "ax1.set_ylim([ymin, ymax])\n",
    "ax1.legend(loc='upper left')\n",
    "\n",
    "ax2.plot(x_front, y_front, color='black')\n",
    "ax2.vlines(xs, ymin=front, ymax=front+us, color='blue', linestyle=':')\n",
    "ax2.vlines(xs, ymin=front+us-vs, ymax=front+us, color='green', label='inefficiency')\n",
    "ax2.scatter(xs, front+us-vs, color='green', marker='v')\n",
    "ax2.set_ylim([ymin, ymax])\n",
    "ax2.legend(loc='upper left')\n",
    "ax2.set_ylabel(\"Output Value\")\n",
    "\n",
    "ax3.plot(x_front, y_front, color='black')\n",
    "ax3.vlines(xs, ymin=front, ymax=front+us, color='blue', linestyle=':')\n",
    "ax3.vlines(xs, ymin=front+us-vs, ymax=front+us, color='green', linestyle=':')\n",
    "ax3.vlines(xs, ymin=front+us-vs, ymax=front+us-vs+epsilon, color='red', label=\"study error\")\n",
    "pos_change = epsilon > 0\n",
    "ax3.scatter(xs[pos_change], (front+us-vs+epsilon)[pos_change], color='red', marker='^')\n",
    "ax3.scatter(xs[~pos_change], (front+us-vs+epsilon)[~pos_change], color='red', marker='v')\n",
    "ax3.set_ylim([ymin, ymax])\n",
    "ax3.legend(loc='upper left')\n",
    "\n",
    "ax4.scatter(xs, front+us-vs+epsilon, color='black', label='observation')\n",
    "ax4.plot(x_front, y_front, color='black')\n",
    "ax4.vlines(xs, ymin=front, ymax=front+us, color='blue', linestyle=':')\n",
    "ax4.vlines(xs, ymin=front+us-vs, ymax=front+us, color='green', linestyle=':')\n",
    "ax4.vlines(xs, ymin=front+us-vs, ymax=front+us-vs+epsilon, color='red', linestyle=':')\n",
    "ax4.set_ylim([ymin, ymax])\n",
    "ax4.legend(loc='upper left')\n",
    "ax4.set_xlabel(\"Input Value\")\n",
    "ax4.set_ylabel(\"Output Value\")\n",
    "\n",
    "plt.savefig(\"data-generating-process.pdf\")"
   ]
  },
  {
   "cell_type": "markdown",
   "metadata": {},
   "source": [
    "## Figure 2"
   ]
  },
  {
   "cell_type": "markdown",
   "metadata": {},
   "source": [
    "Single model fit"
   ]
  },
  {
   "cell_type": "code",
   "execution_count": null,
   "metadata": {},
   "outputs": [],
   "source": [
    "s = Simulator(nu=0.4, gamma=0.01, sigma_min=0.1, sigma_max=0.2, ineff_dist='half-normal',\n",
    "              x=lambda size: stats.uniform.rvs(size=size, loc=0.0, scale=10), func=lambda x: np.log(5 * x + 1.5))\n",
    "us, vs, epsilon, sigma, xs, front, observed = s.simulate(n=1000)\n",
    "\n",
    "x_front = np.linspace(xs.min(), xs.max())\n",
    "y_front = s.func(np.linspace(xs.min(), xs.max()))"
   ]
  },
  {
   "cell_type": "code",
   "execution_count": null,
   "metadata": {},
   "outputs": [],
   "source": [
    "sim = pd.DataFrame({'output': observed, 'input': xs, 'se': sigma})\n",
    "sim.sort_values('input', inplace=True)"
   ]
  },
  {
   "cell_type": "code",
   "execution_count": null,
   "metadata": {},
   "outputs": [],
   "source": [
    "model = SFMAModel(\n",
    "    df=sim,\n",
    "    col_output='output',\n",
    "    col_se='se',\n",
    "    col_input='input',\n",
    "    concave=True,\n",
    "    include_gamma=True,\n",
    "    increasing=True,\n",
    "    pct_trimming=0.1\n",
    ")\n",
    "model.fit()"
   ]
  },
  {
   "cell_type": "code",
   "execution_count": null,
   "metadata": {},
   "outputs": [],
   "source": [
    "model.plot_inefficiencies()"
   ]
  },
  {
   "cell_type": "code",
   "execution_count": null,
   "metadata": {
    "scrolled": true
   },
   "outputs": [],
   "source": [
    "model.plot_frontier(sim, true_frontier=np.array([x_front, y_front]).T)"
   ]
  },
  {
   "cell_type": "code",
   "execution_count": null,
   "metadata": {},
   "outputs": [],
   "source": [
    "model.solver.result['success']"
   ]
  },
  {
   "cell_type": "code",
   "execution_count": null,
   "metadata": {},
   "outputs": [],
   "source": [
    "model.marginal_model.objective(data=model.data, x=increasing_opt)"
   ]
  },
  {
   "cell_type": "code",
   "execution_count": null,
   "metadata": {},
   "outputs": [],
   "source": [
    "model.marginal_model.objective(data=model.data, x=model.solver.x_opt)"
   ]
  },
  {
   "cell_type": "code",
   "execution_count": null,
   "metadata": {},
   "outputs": [],
   "source": [
    "# increasing\n",
    "increasing_opt = model.solver.x_opt"
   ]
  },
  {
   "cell_type": "code",
   "execution_count": null,
   "metadata": {},
   "outputs": [],
   "source": [
    "model.solver.result"
   ]
  },
  {
   "cell_type": "code",
   "execution_count": null,
   "metadata": {},
   "outputs": [],
   "source": [
    "model.solver.x_opt"
   ]
  },
  {
   "cell_type": "code",
   "execution_count": null,
   "metadata": {},
   "outputs": [],
   "source": [
    "model.marginal_model.objective(data=model.data, x=model.solver.x_opt)"
   ]
  },
  {
   "cell_type": "code",
   "execution_count": null,
   "metadata": {},
   "outputs": [],
   "source": [
    "x_try = model.solver.x_opt\n",
    "x_try[0:model.marginal_model.femat.shape[1]] -= 1.5\n",
    "x_try[-1] = 0.11007753575536437"
   ]
  },
  {
   "cell_type": "code",
   "execution_count": null,
   "metadata": {},
   "outputs": [],
   "source": [
    "model.marginal_model.objective(data=model.data, x=x_try)"
   ]
  },
  {
   "cell_type": "code",
   "execution_count": null,
   "metadata": {},
   "outputs": [],
   "source": [
    "model.solver.result"
   ]
  },
  {
   "cell_type": "code",
   "execution_count": null,
   "metadata": {},
   "outputs": [],
   "source": [
    "model.solver.x_opt"
   ]
  },
  {
   "cell_type": "markdown",
   "metadata": {},
   "source": [
    "Gamma"
   ]
  },
  {
   "cell_type": "code",
   "execution_count": null,
   "metadata": {},
   "outputs": [],
   "source": [
    "0.2**2"
   ]
  },
  {
   "cell_type": "markdown",
   "metadata": {},
   "source": [
    "This is what we simulated for the scale of half-normal"
   ]
  },
  {
   "cell_type": "code",
   "execution_count": null,
   "metadata": {},
   "outputs": [],
   "source": [
    "0.2"
   ]
  },
  {
   "cell_type": "markdown",
   "metadata": {},
   "source": [
    "Estimated the variance of the normal, then when we did this transformation, we estimated standard deviation for the half-normal "
   ]
  },
  {
   "cell_type": "code",
   "execution_count": null,
   "metadata": {},
   "outputs": [],
   "source": [
    "np.sqrt(1 - 2/np.pi)*np.sqrt(2.2239941)"
   ]
  },
  {
   "cell_type": "code",
   "execution_count": null,
   "metadata": {},
   "outputs": [],
   "source": [
    "(0.2/np.sqrt(1 - 2/np.pi))**2"
   ]
  },
  {
   "cell_type": "markdown",
   "metadata": {},
   "source": [
    "## Run through many versions of simulations and try different model fits"
   ]
  },
  {
   "cell_type": "code",
   "execution_count": null,
   "metadata": {},
   "outputs": [],
   "source": [
    "def sim_fit(nu, gamma, sigma_ran):\n",
    "    \n",
    "    s = Simulator(nu=nu, gamma=gamma, sigma_min=sigma_ran[0], sigma_max=sigma_ran[1], ineff_dist='half-normal',\n",
    "                  x=lambda size: stats.uniform.rvs(size=size, loc=0.0, scale=10), func=lambda x: np.log(5 * x + 1.5))\n",
    "    us, vs, epsilon, sigma, xs, front, observed = s.simulate(n = 500)\n",
    "\n",
    "    sim = pd.DataFrame({'output': observed, 'input': xs, 'se': sigma})\n",
    "    sim.sort_values('input', inplace=True)\n",
    "\n",
    "    x_front = np.linspace(xs.min(), xs.max())\n",
    "    y_front = s.func(np.linspace(xs.min(), xs.max()))\n",
    "\n",
    "    # Look at linear tail versus not on this one\n",
    "    for concave in [True, False]:\n",
    "        for increasing in [True, False]:\n",
    "            for include_gamma in [True, False]:\n",
    "                name = \"\"\n",
    "                if concave:\n",
    "                    name += \"concave \"\n",
    "                if increasing:\n",
    "                    name += \"increasing \"\n",
    "                if include_gamma:\n",
    "                    name += \"gamma \"\n",
    "                if name == \"\":\n",
    "                    name = \"basic \"\n",
    "                model = SFMAModel(\n",
    "                    df=sim,\n",
    "                    col_output='output',\n",
    "                    col_se='se',\n",
    "                    col_input='input',\n",
    "                    concave=concave,\n",
    "                    include_gamma=include_gamma,\n",
    "                    increasing=increasing\n",
    "                )\n",
    "                error = False\n",
    "                try:\n",
    "                    model.fit(options={'solver_options': {}})\n",
    "                    converged = model.solver.result['success']\n",
    "                except ValueError as e:\n",
    "                    if \"array must not contain infs or NaNs\" in str(e):\n",
    "                        error = True\n",
    "                        converged = False\n",
    "                    else:\n",
    "                        raise e\n",
    "                if converged:\n",
    "                    name += \"(+)\"\n",
    "                else:\n",
    "                    if error:\n",
    "                        name += \"(x)\"\n",
    "                    else:\n",
    "                        name += \"(-)\"\n",
    "                print(name, \"\\r\")\n",
    "                if not error:\n",
    "                    preds = model.predict()\n",
    "                    sim[name] = preds\n",
    "                    \n",
    "                    initial_values = model.marginal_model.get_var_init(data=model.data)\n",
    "                    model.solver.x_opt = initial_values\n",
    "                    initial_preds = model.predict()\n",
    "                    \n",
    "                    sim['init'] = initial_preds\n",
    "                else:\n",
    "                    sim[name] = np.nan\n",
    "    return sim"
   ]
  },
  {
   "cell_type": "code",
   "execution_count": null,
   "metadata": {},
   "outputs": [],
   "source": [
    "this_sim = sim_fit(0.5, 0.1, [0.1, 0.2])"
   ]
  },
  {
   "cell_type": "code",
   "execution_count": null,
   "metadata": {},
   "outputs": [],
   "source": [
    "sims = dict()\n",
    "\n",
    "j = 0\n",
    "for NU in [0.01, 0.1, 0.5]:\n",
    "    print(f\"NU {NU}\")\n",
    "    sims[NU] = dict()\n",
    "    for GAMMA in [0.0, 0.1]:\n",
    "        print(f\"GAMMA {GAMMA}\")\n",
    "        sims[NU][GAMMA] = dict()\n",
    "        for SIGMA_RAN in [[0.01, 0.02], [0.1, 0.2]]:\n",
    "            SIGMA = '-'.join([str(x) for x in SIGMA_RAN])\n",
    "            print(f\"SIGMA {SIGMA}\")\n",
    "            print(f\"ITER {j}\")\n",
    "            this_sim = sim_fit(NU, GAMMA, SIGMA_RAN)\n",
    "            sims[NU][GAMMA][SIGMA] = this_sim\n",
    "            j += 1"
   ]
  },
  {
   "cell_type": "code",
   "execution_count": null,
   "metadata": {},
   "outputs": [],
   "source": [
    "stys = ['solid', 'dashed']\n",
    "cols = ['red', 'blue']\n",
    "\n",
    "fig, ax = plt.subplots(12, 2, figsize=(18, 8*12))\n",
    "\n",
    "j = 0\n",
    "for NU in [0.01, 0.1, 0.5]:\n",
    "    for GAMMA in [0.0, 0.1]:\n",
    "        for SIGMA_RAN in [[0.01, 0.02], [0.1, 0.2]]:\n",
    "            SIGMA = '-'.join([str(x) for x in SIGMA_RAN])\n",
    "            this_sim = sims[NU][GAMMA][SIGMA]\n",
    "            for concave in [True, False]:\n",
    "                if concave:\n",
    "                    sty = stys[0]\n",
    "                else:\n",
    "                    sty = stys[1]\n",
    "                for increasing in [True, False]:\n",
    "                    if increasing:\n",
    "                        clr = cols[0]\n",
    "                    else:\n",
    "                        clr = cols[1]\n",
    "                    i = 0\n",
    "                    for include_gamma in [True, False]:\n",
    "                        name = \"\"\n",
    "                        if concave:\n",
    "                            name += \"concave \"\n",
    "                        if increasing:\n",
    "                            name += \"increasing \"\n",
    "                        if include_gamma:\n",
    "                            name += \"gamma \"\n",
    "                        if name == \"\":\n",
    "                            name = \"basic \"\n",
    "                        if name + \"(+)\" in this_sim.columns:\n",
    "                            col = name + \"(+)\"\n",
    "                        elif name + \"(-)\" in this_sim.columns:\n",
    "                            col = name + \"(-)\"\n",
    "                        elif name + \"(x)\" in this_sim.columns:\n",
    "                            col = name + \"(x)\"\n",
    "\n",
    "                        ax[j,i].plot(x_front, y_front, linestyle='solid', color='black', alpha=0.5)\n",
    "                        ax[j,i].errorbar(this_sim['input'], this_sim['output'], yerr=sim['se'], linestyle='None', color='black', alpha=0.05)\n",
    "                        ax[j,i].scatter(this_sim['input'], this_sim['output'], color='black', alpha=0.05)\n",
    "                        ax[j,i].plot(this_sim['input'], this_sim[col], c=clr, linestyle=sty, label=col)\n",
    "                        ax[j,i].plot(this_sim['input'], this_sim['init'], c='green', label='init')\n",
    "\n",
    "                        ax[j,i].legend()\n",
    "                        title = f\"NU: {NU}, GAMMA: {GAMMA}, SIGMA: {SIGMA}\"\n",
    "                        if i == 0:\n",
    "                            title = \"WITH GAMMA -- \" + title\n",
    "                        if i == 1:\n",
    "                            title = \"WITHOUT GAMMA -- \" + title\n",
    "                        ax[j,i].set_title(title)\n",
    "                        i += 1\n",
    "            j += 1\n",
    "plt.savefig(\"ALL-SETTINGS-3.pdf\")"
   ]
  },
  {
   "cell_type": "code",
   "execution_count": null,
   "metadata": {},
   "outputs": [],
   "source": []
  }
 ],
 "metadata": {
  "kernelspec": {
   "display_name": "Python 3 (ipykernel)",
   "language": "python",
   "name": "python3"
  },
  "language_info": {
   "codemirror_mode": {
    "name": "ipython",
    "version": 3
   },
   "file_extension": ".py",
   "mimetype": "text/x-python",
   "name": "python",
   "nbconvert_exporter": "python",
   "pygments_lexer": "ipython3",
   "version": "3.8.2"
  }
 },
 "nbformat": 4,
 "nbformat_minor": 4
}
