{
 "cells": [
  {
   "cell_type": "code",
   "execution_count": null,
   "metadata": {},
   "outputs": [],
   "source": [
    "import numpy as np\n",
    "import pandas as pd\n",
    "from scipy.stats import halfnorm\n",
    "from scipy.stats import expon\n",
    "from scipy import stats\n",
    "import matplotlib.pyplot as plt\n",
    "import matplotlib\n",
    "\n",
    "from sfma.api import SFMAModel\n",
    "from helpers import Simulator"
   ]
  },
  {
   "cell_type": "markdown",
   "metadata": {},
   "source": [
    "Simulate some test data and get the \"true\" frontier."
   ]
  },
  {
   "cell_type": "code",
   "execution_count": null,
   "metadata": {},
   "outputs": [],
   "source": [
    "np.random.seed(10)"
   ]
  },
  {
   "cell_type": "code",
   "execution_count": null,
   "metadata": {},
   "outputs": [],
   "source": [
    "s = Simulator(nu=0.4, # variance of inefficiency\n",
    "              gamma=0.01, # random effect variance\n",
    "              sigma_min=0.1, # measurement error lower (will sample uniformly)\n",
    "              sigma_max=0.2, # measurement error upper (will sample uniformly)\n",
    "              ineff_dist='half-normal', # inefficiency distribution\n",
    "              x=lambda size: stats.uniform.rvs(size=size, loc=0.0, scale=10), # sample a single covariate\n",
    "              func=lambda x: np.log(5 * x + 1.5)) # the functional form of the frontier\n",
    "us, vs, epsilon, sigma, xs, front, observed = s.simulate(n=1000)\n",
    "\n",
    "x_front = np.linspace(xs.min(), xs.max())\n",
    "y_front = s.func(np.linspace(xs.min(), xs.max()))"
   ]
  },
  {
   "cell_type": "code",
   "execution_count": null,
   "metadata": {},
   "outputs": [],
   "source": [
    "sim = pd.DataFrame({'output': observed, 'input': xs, 'se': sigma})\n",
    "sim.sort_values('input', inplace=True)"
   ]
  },
  {
   "cell_type": "markdown",
   "metadata": {},
   "source": [
    "Create a model object, fit it, and add predictions to the data frame."
   ]
  },
  {
   "cell_type": "code",
   "execution_count": null,
   "metadata": {},
   "outputs": [],
   "source": [
    "model = SFMAModel(\n",
    "    \n",
    "    # INPUT DATA + COLUMNS\n",
    "    df=sim, # data frame with below columns in it\n",
    "    col_output='output', # output column\n",
    "    col_se='se', # standard error for outputs\n",
    "    col_input='input', # input column -- only one at this time\n",
    "    \n",
    "    # SHAPE CONSTRAINTS\n",
    "    concave=True, # force concavity of frontier\n",
    "    convex=False, # force convexity of frontier\n",
    "    increasing=True, # force increasing trend\n",
    "    decreasing=False, # force decreasing trend\n",
    "    r_linear=False, # whether to require linear tails to the right for the spline\n",
    "    l_linear=False, # whether to require linear tails to the left for the spline\n",
    "    constr_grid_num=20, # sensible default, if constraints are not being enforced properly, make this larger\n",
    "    \n",
    "    # SPLINES\n",
    "    knots_num=4, # how many knots for spline\n",
    "    knots_type=\"domain\", # should knots be spaced evenly or based on frequency of data (\"frequency\")\n",
    "    knots_degree=3, # degree of the spline, e.g., 3=cubic\n",
    "    \n",
    "    # ESTIMATION OF RANDOM EFFECTS\n",
    "    include_gamma=True, # whether to include random effects -- one per observation\n",
    "    \n",
    "    # ESTIMATE AN INTERCEPT\n",
    "    include_intercept=True, # this should pretty much always be true\n",
    "    \n",
    "    # TRIMMING\n",
    "    pct_trimming=0.01 # what proportion of the data should be trimmed as outliers\n",
    ")\n",
    "\n",
    "model.fit()"
   ]
  },
  {
   "cell_type": "code",
   "execution_count": null,
   "metadata": {},
   "outputs": [],
   "source": [
    "model.plot_frontier(sim, true_frontier=np.array([x_front, y_front]).T)"
   ]
  },
  {
   "cell_type": "code",
   "execution_count": null,
   "metadata": {},
   "outputs": [],
   "source": []
  }
 ],
 "metadata": {
  "kernelspec": {
   "display_name": "Python 3 (ipykernel)",
   "language": "python",
   "name": "python3"
  },
  "language_info": {
   "codemirror_mode": {
    "name": "ipython",
    "version": 3
   },
   "file_extension": ".py",
   "mimetype": "text/x-python",
   "name": "python",
   "nbconvert_exporter": "python",
   "pygments_lexer": "ipython3",
   "version": "3.8.2"
  }
 },
 "nbformat": 4,
 "nbformat_minor": 4
}
