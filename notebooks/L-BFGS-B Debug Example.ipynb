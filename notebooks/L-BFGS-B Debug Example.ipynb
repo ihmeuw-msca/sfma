{
 "cells": [
  {
   "cell_type": "markdown",
   "metadata": {},
   "source": [
    "### This is an example of where Scipy default optimizer (L-BFGS-B) does not correctly estimate the inefficiency variance. Even with $\\gamma$ set to 0 and small measurement error, it estimates $\\eta = 0$."
   ]
  },
  {
   "cell_type": "markdown",
   "metadata": {},
   "source": [
    "#### January 22, 2021 (after SFMA meeting)\n",
    "Install the latest commit of `anml` from GitHub and the `logerf` branch from `SFMA`"
   ]
  },
  {
   "cell_type": "code",
   "execution_count": null,
   "metadata": {},
   "outputs": [],
   "source": [
    "import numpy as np\n",
    "import pandas as pd\n",
    "\n",
    "import matplotlib.pyplot as plt\n",
    "from sfma.api import SFMAModel"
   ]
  },
  {
   "cell_type": "markdown",
   "metadata": {},
   "source": [
    "## Make Simulations"
   ]
  },
  {
   "cell_type": "code",
   "execution_count": null,
   "metadata": {},
   "outputs": [],
   "source": [
    "np.random.seed(10)"
   ]
  },
  {
   "cell_type": "code",
   "execution_count": null,
   "metadata": {},
   "outputs": [],
   "source": [
    "n = 100"
   ]
  },
  {
   "cell_type": "code",
   "execution_count": null,
   "metadata": {},
   "outputs": [],
   "source": [
    "intercept = 1.5\n",
    "slope = 5\n",
    "\n",
    "x_domain = [0, 10]\n",
    "\n",
    "ineff = 0.4\n",
    "\n",
    "sample_size_1 = [1000, 0.7]\n",
    "sample_size_2 = [1000, 0.3]"
   ]
  },
  {
   "cell_type": "code",
   "execution_count": null,
   "metadata": {},
   "outputs": [],
   "source": [
    "def frontier(x):\n",
    "    return np.log(intercept + slope * x)"
   ]
  },
  {
   "cell_type": "code",
   "execution_count": null,
   "metadata": {},
   "outputs": [],
   "source": [
    "def simulate():\n",
    "    x = np.random.uniform(low=x_domain[0], high=x_domain[1], size=n)\n",
    "    sample_sizes_1 = np.random.negative_binomial(\n",
    "        n=sample_size_1[0], p=sample_size_1[1], size=int(n / 2)\n",
    "    )\n",
    "    sample_sizes_2 = np.random.negative_binomial(\n",
    "        n=sample_size_2[0], p=sample_size_2[1], size=int(n / 2)\n",
    "    )\n",
    "    sample_sizes = np.append(sample_sizes_1, sample_sizes_2)\n",
    "    \n",
    "    the_frontier = frontier(x)\n",
    "    inefficiency = np.random.exponential(ineff, size=n)\n",
    "    means = the_frontier - inefficiency\n",
    "    samples = [np.random.normal(m, scale=4, size=s) for m, s in zip(means, sample_sizes)]\n",
    "    est_means = np.array([np.mean(s) for s in samples])\n",
    "    est_sterr = np.array([np.sqrt(np.sum(sum((s - np.mean(s))**2)) / ((len(s) - 1)))/np.sqrt(len(s)) for s in samples])\n",
    "    df = pd.DataFrame({\n",
    "        'output': est_means,\n",
    "        'se': est_sterr,\n",
    "        'input': x,\n",
    "        'ones': np.ones(len(x)),\n",
    "        'frontier': the_frontier,\n",
    "        'truth': means,\n",
    "        'sample_size': sample_sizes\n",
    "    })\n",
    "    return df"
   ]
  },
  {
   "cell_type": "code",
   "execution_count": null,
   "metadata": {},
   "outputs": [],
   "source": [
    "sim = simulate()"
   ]
  },
  {
   "cell_type": "code",
   "execution_count": null,
   "metadata": {},
   "outputs": [],
   "source": [
    "the_frontier = sim['frontier']\n",
    "linspace = np.linspace(x_domain[0], x_domain[1])\n",
    "front = frontier(linspace)"
   ]
  },
  {
   "cell_type": "code",
   "execution_count": null,
   "metadata": {
    "scrolled": false
   },
   "outputs": [],
   "source": [
    "fig, ax = plt.subplots(1, 1, figsize=(8, 4))\n",
    "ax.plot(linspace, front, linestyle='solid')\n",
    "ax.scatter(sim.input, sim.output, color='orange')\n",
    "ax.errorbar(sim.input, sim.output, yerr=sim.se, linestyle='None')"
   ]
  },
  {
   "cell_type": "code",
   "execution_count": null,
   "metadata": {},
   "outputs": [],
   "source": [
    "model = SFMAModel(\n",
    "    df=sim,\n",
    "    col_output='output',\n",
    "    col_se='se',\n",
    "    col_input='input',\n",
    "    include_gamma=True\n",
    ")\n",
    "concave = SFMAModel(\n",
    "    df=sim,\n",
    "    col_output='output',\n",
    "    col_se='se',\n",
    "    col_input='input',\n",
    "    r_linear=True,\n",
    "    concave=True,\n",
    "    include_gamma=True,\n",
    ")"
   ]
  },
  {
   "cell_type": "code",
   "execution_count": null,
   "metadata": {},
   "outputs": [],
   "source": [
    "model.fit(options={'solver_options': {}})\n",
    "# concave.fit(options={'solver_options': {}})"
   ]
  },
  {
   "cell_type": "code",
   "execution_count": null,
   "metadata": {},
   "outputs": [],
   "source": [
    "sim['base_predictions'] = model.predict()\n",
    "# sim['concave_predictions'] = concave.predict()\n",
    "sim.sort_values('input', inplace=True)"
   ]
  },
  {
   "cell_type": "markdown",
   "metadata": {},
   "source": [
    "#### The last entry is $\\eta$ and you can see that it's 0 for the `model` object but non-zero correct) for the `concave` object."
   ]
  },
  {
   "cell_type": "code",
   "execution_count": null,
   "metadata": {},
   "outputs": [],
   "source": [
    "model.x_init"
   ]
  },
  {
   "cell_type": "code",
   "execution_count": null,
   "metadata": {},
   "outputs": [],
   "source": [
    "model.solver.x_opt"
   ]
  },
  {
   "cell_type": "code",
   "execution_count": null,
   "metadata": {},
   "outputs": [],
   "source": [
    "concave.solver.x_opt"
   ]
  },
  {
   "cell_type": "code",
   "execution_count": null,
   "metadata": {
    "scrolled": true
   },
   "outputs": [],
   "source": [
    "fig, axes = plt.subplots(1, 1, figsize=(8, 4))\n",
    "axes.plot(linspace, front, linestyle='dashed', color='black')\n",
    "axes.scatter(sim.input, sim.output, color='grey', alpha=0.4, label=\"data\")\n",
    "# axes.scatter(sim.input, sim.output + concave.inefficiencies, color='#008080', alpha=0.4, label=\"data + inefficiency\")\n",
    "axes.errorbar(sim.input, sim.output, yerr=sim.se, linestyle='None', color='grey', alpha=0.4)\n",
    "axes.plot(sim.input, sim.base_predictions, color='red', label='basic (L-BFGS-B)')\n",
    "# axes.plot(sim.input, sim.concave_predictions, color='green', label='concave (trust-constr)')\n",
    "axes.legend()\n",
    "plt.savefig(\"results.png\", bbox_inches=\"tight\")"
   ]
  },
  {
   "cell_type": "code",
   "execution_count": null,
   "metadata": {},
   "outputs": [],
   "source": [
    "model.solver.result"
   ]
  },
  {
   "cell_type": "code",
   "execution_count": null,
   "metadata": {},
   "outputs": [],
   "source": [
    "p = np.random.uniform(size=8)"
   ]
  },
  {
   "cell_type": "code",
   "execution_count": null,
   "metadata": {},
   "outputs": [],
   "source": [
    "p"
   ]
  },
  {
   "cell_type": "code",
   "execution_count": null,
   "metadata": {},
   "outputs": [],
   "source": [
    "model.marginal_model.gradient(x=p, data=model.data)"
   ]
  },
  {
   "cell_type": "code",
   "execution_count": null,
   "metadata": {},
   "outputs": [],
   "source": [
    "model.marginal_model.gradient_ad(x=p, data=model.data)"
   ]
  },
  {
   "cell_type": "code",
   "execution_count": null,
   "metadata": {},
   "outputs": [],
   "source": [
    "model.data.obs.shape[0]"
   ]
  },
  {
   "cell_type": "code",
   "execution_count": null,
   "metadata": {},
   "outputs": [],
   "source": []
  }
 ],
 "metadata": {
  "kernelspec": {
   "display_name": "Python 3 (ipykernel)",
   "language": "python",
   "name": "python3"
  },
  "language_info": {
   "codemirror_mode": {
    "name": "ipython",
    "version": 3
   },
   "file_extension": ".py",
   "mimetype": "text/x-python",
   "name": "python",
   "nbconvert_exporter": "python",
   "pygments_lexer": "ipython3",
   "version": "3.8.2"
  }
 },
 "nbformat": 4,
 "nbformat_minor": 4
}
