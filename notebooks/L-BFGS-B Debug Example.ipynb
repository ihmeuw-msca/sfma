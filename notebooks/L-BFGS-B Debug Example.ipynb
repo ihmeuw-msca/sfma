{
 "cells": [
  {
   "cell_type": "markdown",
   "metadata": {},
   "source": [
    "### This is an example of where Scipy default optimizer (L-BFGS-B) does not correctly estimate the inefficiency variance. Even with $\\gamma$ set to 0 and small measurement error, it estimates $\\eta = 0$."
   ]
  },
  {
   "cell_type": "markdown",
   "metadata": {},
   "source": [
    "#### January 22, 2021 (after SFMA meeting)\n",
    "Install the latest commit of `anml` from GitHub and the `logerf` branch from `SFMA`"
   ]
  },
  {
   "cell_type": "code",
   "execution_count": 1,
   "metadata": {},
   "outputs": [],
   "source": [
    "import numpy as np\n",
    "import pandas as pd\n",
    "\n",
    "import matplotlib.pyplot as plt\n",
    "from sfma.api import SFMAModel"
   ]
  },
  {
   "cell_type": "markdown",
   "metadata": {},
   "source": [
    "## Make Simulations"
   ]
  },
  {
   "cell_type": "code",
   "execution_count": 2,
   "metadata": {},
   "outputs": [],
   "source": [
    "np.random.seed(10)"
   ]
  },
  {
   "cell_type": "code",
   "execution_count": 3,
   "metadata": {},
   "outputs": [],
   "source": [
    "n = 100"
   ]
  },
  {
   "cell_type": "code",
   "execution_count": 4,
   "metadata": {},
   "outputs": [],
   "source": [
    "intercept = 1.5\n",
    "slope = 5\n",
    "\n",
    "x_domain = [0, 10]\n",
    "\n",
    "ineff = 0.4\n",
    "\n",
    "sample_size_1 = [1000, 0.7]\n",
    "sample_size_2 = [1000, 0.3]"
   ]
  },
  {
   "cell_type": "code",
   "execution_count": 5,
   "metadata": {},
   "outputs": [],
   "source": [
    "def frontier(x):\n",
    "    return np.log(intercept + slope * x)"
   ]
  },
  {
   "cell_type": "code",
   "execution_count": 6,
   "metadata": {},
   "outputs": [],
   "source": [
    "def simulate():\n",
    "    x = np.random.uniform(low=x_domain[0], high=x_domain[1], size=n)\n",
    "    sample_sizes_1 = np.random.negative_binomial(\n",
    "        n=sample_size_1[0], p=sample_size_1[1], size=int(n / 2)\n",
    "    )\n",
    "    sample_sizes_2 = np.random.negative_binomial(\n",
    "        n=sample_size_2[0], p=sample_size_2[1], size=int(n / 2)\n",
    "    )\n",
    "    sample_sizes = np.append(sample_sizes_1, sample_sizes_2)\n",
    "    \n",
    "    the_frontier = frontier(x)\n",
    "    inefficiency = np.random.exponential(ineff, size=n)\n",
    "    means = the_frontier - inefficiency\n",
    "    samples = [np.random.normal(m, scale=4, size=s) for m, s in zip(means, sample_sizes)]\n",
    "    est_means = np.array([np.mean(s) for s in samples])\n",
    "    est_sterr = np.array([np.sqrt(np.sum(sum((s - np.mean(s))**2)) / ((len(s) - 1)))/np.sqrt(len(s)) for s in samples])\n",
    "    df = pd.DataFrame({\n",
    "        'output': est_means,\n",
    "        'se': est_sterr,\n",
    "        'input': x,\n",
    "        'ones': np.ones(len(x)),\n",
    "        'frontier': the_frontier,\n",
    "        'truth': means,\n",
    "        'sample_size': sample_sizes\n",
    "    })\n",
    "    return df"
   ]
  },
  {
   "cell_type": "code",
   "execution_count": 7,
   "metadata": {},
   "outputs": [],
   "source": [
    "sim = simulate()"
   ]
  },
  {
   "cell_type": "code",
   "execution_count": 8,
   "metadata": {},
   "outputs": [],
   "source": [
    "the_frontier = sim['frontier']\n",
    "linspace = np.linspace(x_domain[0], x_domain[1])\n",
    "front = frontier(linspace)"
   ]
  },
  {
   "cell_type": "code",
   "execution_count": 9,
   "metadata": {
    "scrolled": false
   },
   "outputs": [
    {
     "data": {
      "text/plain": [
       "<ErrorbarContainer object of 3 artists>"
      ]
     },
     "execution_count": 9,
     "metadata": {},
     "output_type": "execute_result"
    },
    {
     "data": {
      "image/png": "[encoded data removed]",
      "text/plain": [
       "<Figure size 576x288 with 1 Axes>"
      ]
     },
     "metadata": {
      "needs_background": "light"
     },
     "output_type": "display_data"
    }
   ],
   "source": [
    "fig, ax = plt.subplots(1, 1, figsize=(8, 4))\n",
    "ax.plot(linspace, front, linestyle='solid')\n",
    "ax.scatter(sim.input, sim.output, color='orange')\n",
    "ax.errorbar(sim.input, sim.output, yerr=sim.se, linestyle='None')"
   ]
  },
  {
   "cell_type": "code",
   "execution_count": 64,
   "metadata": {},
   "outputs": [],
   "source": [
    "model = SFMAModel(\n",
    "    df=sim,\n",
    "    col_output='output',\n",
    "    col_se='se',\n",
    "    col_input='input',\n",
    "    include_gamma=True\n",
    ")\n",
    "concave = SFMAModel(\n",
    "    df=sim,\n",
    "    col_output='output',\n",
    "    col_se='se',\n",
    "    col_input='input',\n",
    "    r_linear=True,\n",
    "    concave=True,\n",
    "    include_gamma=True,\n",
    ")"
   ]
  },
  {
   "cell_type": "code",
   "execution_count": 65,
   "metadata": {},
   "outputs": [],
   "source": [
    "model.fit(options={'solver_options': {}})\n",
    "# concave.fit(options={'solver_options': {}})"
   ]
  },
  {
   "cell_type": "code",
   "execution_count": 66,
   "metadata": {},
   "outputs": [],
   "source": [
    "sim['base_predictions'] = model.predict()\n",
    "# sim['concave_predictions'] = concave.predict()\n",
    "sim.sort_values('input', inplace=True)"
   ]
  },
  {
   "cell_type": "markdown",
   "metadata": {},
   "source": [
    "#### The last entry is $\\eta$ and you can see that it's 0 for the `model` object but non-zero correct) for the `concave` object."
   ]
  },
  {
   "cell_type": "code",
   "execution_count": 67,
   "metadata": {},
   "outputs": [
    {
     "data": {
      "text/plain": [
       "array([7.87402240e-01, 3.20253479e+00, 2.51494666e+00, 4.43904996e+00,\n",
       "       3.72892116e+00, 4.25677584e+00, 1.00000000e-05, 1.00000000e-05])"
      ]
     },
     "execution_count": 67,
     "metadata": {},
     "output_type": "execute_result"
    }
   ],
   "source": [
    "model.x_init"
   ]
  },
  {
   "cell_type": "code",
   "execution_count": 68,
   "metadata": {},
   "outputs": [
    {
     "data": {
      "text/plain": [
       "array([0.68275163, 2.61101742, 2.63733691, 4.16201691, 3.4151445 ,\n",
       "       4.02006267, 0.        , 0.35306304])"
      ]
     },
     "execution_count": 68,
     "metadata": {},
     "output_type": "execute_result"
    }
   ],
   "source": [
    "model.solver.x_opt"
   ]
  },
  {
   "cell_type": "code",
   "execution_count": 69,
   "metadata": {},
   "outputs": [],
   "source": [
    "concave.solver.x_opt"
   ]
  },
  {
   "cell_type": "code",
   "execution_count": 70,
   "metadata": {
    "scrolled": true
   },
   "outputs": [
    {
     "data": {
      "image/png": "[encoded data removed]",
      "text/plain": [
       "<Figure size 576x288 with 1 Axes>"
      ]
     },
     "metadata": {
      "needs_background": "light"
     },
     "output_type": "display_data"
    }
   ],
   "source": [
    "fig, axes = plt.subplots(1, 1, figsize=(8, 4))\n",
    "axes.plot(linspace, front, linestyle='dashed', color='black')\n",
    "axes.scatter(sim.input, sim.output, color='grey', alpha=0.4, label=\"data\")\n",
    "# axes.scatter(sim.input, sim.output + concave.inefficiencies, color='#008080', alpha=0.4, label=\"data + inefficiency\")\n",
    "axes.errorbar(sim.input, sim.output, yerr=sim.se, linestyle='None', color='grey', alpha=0.4)\n",
    "axes.plot(sim.input, sim.base_predictions, color='red', label='basic (L-BFGS-B)')\n",
    "# axes.plot(sim.input, sim.concave_predictions, color='green', label='concave (trust-constr)')\n",
    "axes.legend()\n",
    "plt.savefig(\"results.png\", bbox_inches=\"tight\")"
   ]
  },
  {
   "cell_type": "code",
   "execution_count": 71,
   "metadata": {},
   "outputs": [
    {
     "data": {
      "text/plain": [
       "      fun: -0.552024597219937\n",
       " hess_inv: <8x8 LbfgsInvHessProduct with dtype=float64>\n",
       "      jac: array([ 7.66759640e-06,  8.24010073e-06,  3.35204410e-06, -3.31875929e-06,\n",
       "        2.86734287e-07,  3.46384030e-06,  3.23237658e+00, -7.03302016e-07])\n",
       "  message: b'CONVERGENCE: NORM_OF_PROJECTED_GRADIENT_<=_PGTOL'\n",
       "     nfev: 40\n",
       "      nit: 24\n",
       "     njev: 40\n",
       "   status: 0\n",
       "  success: True\n",
       "        x: array([0.68275163, 2.61101742, 2.63733691, 4.16201691, 3.4151445 ,\n",
       "       4.02006267, 0.        , 0.35306304])"
      ]
     },
     "execution_count": 71,
     "metadata": {},
     "output_type": "execute_result"
    }
   ],
   "source": [
    "model.solver.result"
   ]
  },
  {
   "cell_type": "code",
   "execution_count": 16,
   "metadata": {},
   "outputs": [],
   "source": [
    "p = np.random.uniform(size=8)"
   ]
  },
  {
   "cell_type": "code",
   "execution_count": 17,
   "metadata": {},
   "outputs": [
    {
     "data": {
      "text/plain": [
       "array([0.74955214, 0.52457375, 0.58083661, 0.86982619, 0.06325029,\n",
       "       0.27778705, 0.99111812, 0.68325028])"
      ]
     },
     "execution_count": 17,
     "metadata": {},
     "output_type": "execute_result"
    }
   ],
   "source": [
    "p"
   ]
  },
  {
   "cell_type": "code",
   "execution_count": 18,
   "metadata": {},
   "outputs": [
    {
     "data": {
      "text/plain": [
       "array([-0.07049641, -0.26535982, -0.61920793, -0.69276497, -0.45934156,\n",
       "       -0.24966072, -2.6798892 ,  0.54332677])"
      ]
     },
     "execution_count": 18,
     "metadata": {},
     "output_type": "execute_result"
    }
   ],
   "source": [
    "model.marginal_model.gradient(x=p, data=model.data)"
   ]
  },
  {
   "cell_type": "code",
   "execution_count": 20,
   "metadata": {},
   "outputs": [
    {
     "data": {
      "text/plain": [
       "array([-0.07049641, -0.26535982, -0.61920793, -0.69276497, -0.45934156,\n",
       "       -0.24966072, -2.6798892 ,  0.54332677])"
      ]
     },
     "execution_count": 20,
     "metadata": {},
     "output_type": "execute_result"
    }
   ],
   "source": [
    "model.marginal_model.gradient_ad(x=p, data=model.data)"
   ]
  },
  {
   "cell_type": "code",
   "execution_count": 26,
   "metadata": {},
   "outputs": [
    {
     "name": "stderr",
     "output_type": "stream",
     "text": [
      "[autoreload of sfma.api failed: Traceback (most recent call last):\n",
      "  File \"/opt/miniconda3/envs/sfma/lib/python3.8/site-packages/IPython/extensions/autoreload.py\", line 245, in check\n",
      "    superreload(m, reload, self.old_objects)\n",
      "  File \"/opt/miniconda3/envs/sfma/lib/python3.8/site-packages/IPython/extensions/autoreload.py\", line 394, in superreload\n",
      "    module = reload(module)\n",
      "  File \"/opt/miniconda3/envs/sfma/lib/python3.8/imp.py\", line 314, in reload\n",
      "    return importlib.reload(module)\n",
      "  File \"/opt/miniconda3/envs/sfma/lib/python3.8/importlib/__init__.py\", line 169, in reload\n",
      "    _bootstrap._exec(spec, module)\n",
      "  File \"<frozen importlib._bootstrap>\", line 604, in _exec\n",
      "  File \"<frozen importlib._bootstrap_external>\", line 779, in exec_module\n",
      "  File \"<frozen importlib._bootstrap_external>\", line 916, in get_code\n",
      "  File \"<frozen importlib._bootstrap_external>\", line 846, in source_to_code\n",
      "  File \"<frozen importlib._bootstrap>\", line 219, in _call_with_frames_removed\n",
      "  File \"/Users/marlena/repos/SFMA/src/sfma/api.py\", line 163\n",
      "    moment2 = np.sum(r - self.data.obs_se) /\n",
      "                                           ^\n",
      "SyntaxError: invalid syntax\n",
      "]\n"
     ]
    },
    {
     "data": {
      "text/plain": [
       "100"
      ]
     },
     "execution_count": 26,
     "metadata": {},
     "output_type": "execute_result"
    }
   ],
   "source": [
    "model.data.obs.shape[0]"
   ]
  },
  {
   "cell_type": "code",
   "execution_count": null,
   "metadata": {},
   "outputs": [],
   "source": []
  }
 ],
 "metadata": {
  "kernelspec": {
   "display_name": "Python 3",
   "language": "python",
   "name": "python3"
  },
  "language_info": {
   "codemirror_mode": {
    "name": "ipython",
    "version": 3
   },
   "file_extension": ".py",
   "mimetype": "text/x-python",
   "name": "python",
   "nbconvert_exporter": "python",
   "pygments_lexer": "ipython3",
   "version": "3.8.5"
  }
 },
 "nbformat": 4,
 "nbformat_minor": 4
}
