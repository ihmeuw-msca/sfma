{
 "cells": [
  {
   "cell_type": "markdown",
   "metadata": {},
   "source": [
    "## Read in data"
   ]
  },
  {
   "cell_type": "code",
   "execution_count": null,
   "metadata": {},
   "outputs": [],
   "source": [
    "import numpy as np\n",
    "import pandas as pd\n",
    "import matplotlib.pyplot as plt"
   ]
  },
  {
   "cell_type": "code",
   "execution_count": null,
   "metadata": {
    "scrolled": true
   },
   "outputs": [],
   "source": [
    "df = pd.read_csv('../data/uhc_data.csv')\n",
    "df['weights'] = 1.0/df.uhc_variance\n",
    "df.head()"
   ]
  },
  {
   "cell_type": "markdown",
   "metadata": {},
   "source": [
    "## Build model"
   ]
  },
  {
   "cell_type": "code",
   "execution_count": null,
   "metadata": {},
   "outputs": [],
   "source": [
    "from sfma import Data, Variable, SplineVariable, SplineSpecs, SplineUniformPrior\n",
    "from sfma.model import SFMAModel"
   ]
  },
  {
   "cell_type": "code",
   "execution_count": null,
   "metadata": {},
   "outputs": [],
   "source": [
    "data = Data(\n",
    "    col_obs=\"uhc\",\n",
    "    col_covs=[\"physicians\"],\n",
    "    col_weights=\"weights\",\n",
    "    df=df\n",
    ")"
   ]
  },
  {
   "cell_type": "code",
   "execution_count": null,
   "metadata": {},
   "outputs": [],
   "source": [
    "spline_priors = [\n",
    "    SplineUniformPrior(order=1, lb=0.0, ub=np.inf),\n",
    "    SplineUniformPrior(order=2, lb=-np.inf, ub=0.0)\n",
    "]"
   ]
  },
  {
   "cell_type": "code",
   "execution_count": null,
   "metadata": {},
   "outputs": [],
   "source": [
    "variables = [\n",
    "    SplineVariable(\"physicians\",\n",
    "                   spline_specs=SplineSpecs(\n",
    "                       knots=np.linspace(0.0, 1.0, 4),\n",
    "                       degree=3,\n",
    "                       knots_type=\"rel_domain\",\n",
    "                       r_linear=True\n",
    "                   ),\n",
    "                   priors=spline_priors)\n",
    "]"
   ]
  },
  {
   "cell_type": "code",
   "execution_count": null,
   "metadata": {},
   "outputs": [],
   "source": [
    "model = SFMAModel(data, variables)"
   ]
  },
  {
   "cell_type": "code",
   "execution_count": null,
   "metadata": {},
   "outputs": [],
   "source": [
    "model.fit(outlier_pct=0.1)"
   ]
  },
  {
   "cell_type": "markdown",
   "metadata": {},
   "source": [
    "## Predict model"
   ]
  },
  {
   "cell_type": "code",
   "execution_count": null,
   "metadata": {},
   "outputs": [],
   "source": [
    "df_pred = pd.DataFrame({\n",
    "    \"physicians\": np.linspace(df.physicians.min(), df.physicians.max(), 100)\n",
    "})"
   ]
  },
  {
   "cell_type": "code",
   "execution_count": null,
   "metadata": {},
   "outputs": [],
   "source": [
    "df_pred[\"pred\"] = model.predict(df_pred)"
   ]
  },
  {
   "cell_type": "code",
   "execution_count": null,
   "metadata": {},
   "outputs": [],
   "source": [
    "fig, ax = plt.subplots()\n",
    "outlier_indices = data.trim_weights == 0.0\n",
    "ax.scatter(df.physicians, df.uhc, color=\"gray\", edgecolor=\"none\", alpha=0.2)\n",
    "ax.scatter(df.physicians[outlier_indices], df.uhc[outlier_indices], color=\"red\", marker=\"x\", alpha=0.2)\n",
    "ax.plot(df_pred.physicians, df_pred.pred, color=\"red\")"
   ]
  },
  {
   "cell_type": "code",
   "execution_count": null,
   "metadata": {},
   "outputs": [],
   "source": []
  }
 ],
 "metadata": {
  "kernelspec": {
   "display_name": "Python 3 (ipykernel)",
   "language": "python",
   "name": "python3"
  },
  "language_info": {
   "codemirror_mode": {
    "name": "ipython",
    "version": 3
   },
   "file_extension": ".py",
   "mimetype": "text/x-python",
   "name": "python",
   "nbconvert_exporter": "python",
   "pygments_lexer": "ipython3",
   "version": "3.8.2"
  }
 },
 "nbformat": 4,
 "nbformat_minor": 4
}
