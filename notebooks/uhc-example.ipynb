{
 "cells": [
  {
   "cell_type": "markdown",
   "metadata": {},
   "source": [
    "## Read in data"
   ]
  },
  {
   "cell_type": "code",
   "execution_count": 1,
   "metadata": {},
   "outputs": [],
   "source": [
    "import numpy as np\n",
    "import pandas as pd\n",
    "import matplotlib.pyplot as plt"
   ]
  },
  {
   "cell_type": "code",
   "execution_count": 2,
   "metadata": {
    "scrolled": true
   },
   "outputs": [
    {
     "data": {
      "text/html": [
       "<div>\n",
       "<style scoped>\n",
       "    .dataframe tbody tr th:only-of-type {\n",
       "        vertical-align: middle;\n",
       "    }\n",
       "\n",
       "    .dataframe tbody tr th {\n",
       "        vertical-align: top;\n",
       "    }\n",
       "\n",
       "    .dataframe thead th {\n",
       "        text-align: right;\n",
       "    }\n",
       "</style>\n",
       "<table border=\"1\" class=\"dataframe\">\n",
       "  <thead>\n",
       "    <tr style=\"text-align: right;\">\n",
       "      <th></th>\n",
       "      <th>location_id</th>\n",
       "      <th>year_id</th>\n",
       "      <th>physicians</th>\n",
       "      <th>nurses</th>\n",
       "      <th>uhc</th>\n",
       "      <th>uhc_variance</th>\n",
       "      <th>weights</th>\n",
       "    </tr>\n",
       "  </thead>\n",
       "  <tbody>\n",
       "    <tr>\n",
       "      <th>0</th>\n",
       "      <td>6</td>\n",
       "      <td>1990</td>\n",
       "      <td>8.498420</td>\n",
       "      <td>7.458451</td>\n",
       "      <td>0.533304</td>\n",
       "      <td>0.000051</td>\n",
       "      <td>19750.634112</td>\n",
       "    </tr>\n",
       "    <tr>\n",
       "      <th>1</th>\n",
       "      <td>6</td>\n",
       "      <td>1991</td>\n",
       "      <td>9.184645</td>\n",
       "      <td>7.949018</td>\n",
       "      <td>0.537839</td>\n",
       "      <td>0.000051</td>\n",
       "      <td>19617.585784</td>\n",
       "    </tr>\n",
       "    <tr>\n",
       "      <th>2</th>\n",
       "      <td>6</td>\n",
       "      <td>1992</td>\n",
       "      <td>9.858267</td>\n",
       "      <td>8.474302</td>\n",
       "      <td>0.542701</td>\n",
       "      <td>0.000051</td>\n",
       "      <td>19491.179889</td>\n",
       "    </tr>\n",
       "    <tr>\n",
       "      <th>3</th>\n",
       "      <td>6</td>\n",
       "      <td>1993</td>\n",
       "      <td>10.543810</td>\n",
       "      <td>9.034594</td>\n",
       "      <td>0.550867</td>\n",
       "      <td>0.000050</td>\n",
       "      <td>19838.147609</td>\n",
       "    </tr>\n",
       "    <tr>\n",
       "      <th>4</th>\n",
       "      <td>6</td>\n",
       "      <td>1994</td>\n",
       "      <td>11.254521</td>\n",
       "      <td>9.627584</td>\n",
       "      <td>0.560277</td>\n",
       "      <td>0.000047</td>\n",
       "      <td>21153.114963</td>\n",
       "    </tr>\n",
       "  </tbody>\n",
       "</table>\n",
       "</div>"
      ],
      "text/plain": [
       "   location_id  year_id  physicians    nurses       uhc  uhc_variance  \\\n",
       "0            6     1990    8.498420  7.458451  0.533304      0.000051   \n",
       "1            6     1991    9.184645  7.949018  0.537839      0.000051   \n",
       "2            6     1992    9.858267  8.474302  0.542701      0.000051   \n",
       "3            6     1993   10.543810  9.034594  0.550867      0.000050   \n",
       "4            6     1994   11.254521  9.627584  0.560277      0.000047   \n",
       "\n",
       "        weights  \n",
       "0  19750.634112  \n",
       "1  19617.585784  \n",
       "2  19491.179889  \n",
       "3  19838.147609  \n",
       "4  21153.114963  "
      ]
     },
     "execution_count": 2,
     "metadata": {},
     "output_type": "execute_result"
    }
   ],
   "source": [
    "df = pd.read_csv('../data/uhc_data.csv')\n",
    "df['weights'] = 1.0/df.uhc_variance\n",
    "df.head()"
   ]
  },
  {
   "cell_type": "markdown",
   "metadata": {},
   "source": [
    "## Build model"
   ]
  },
  {
   "cell_type": "code",
   "execution_count": 3,
   "metadata": {},
   "outputs": [],
   "source": [
    "from sfma import Data, Variable, SplineVariable, SplineSpecs, SplineUniformPrior\n",
    "from sfma.model import SFMAModel"
   ]
  },
  {
   "cell_type": "code",
   "execution_count": 4,
   "metadata": {},
   "outputs": [],
   "source": [
    "data = Data(\n",
    "    col_obs=\"uhc\",\n",
    "    col_covs=[\"physicians\"],\n",
    "    col_weights=\"weights\",\n",
    "    df=df\n",
    ")"
   ]
  },
  {
   "cell_type": "code",
   "execution_count": 5,
   "metadata": {},
   "outputs": [],
   "source": [
    "spline_priors = [\n",
    "    SplineUniformPrior(order=1, lb=0.0, ub=np.inf, size=50),\n",
    "    SplineUniformPrior(order=2, lb=-np.inf, ub=0.0, size=20)\n",
    "]"
   ]
  },
  {
   "cell_type": "code",
   "execution_count": 6,
   "metadata": {},
   "outputs": [],
   "source": [
    "variables = [\n",
    "    SplineVariable(\"physicians\",\n",
    "                   spline_specs=SplineSpecs(\n",
    "                       knots=np.linspace(0.0, 1.0, 4),\n",
    "                       degree=3,\n",
    "                       knots_type=\"rel_domain\",\n",
    "                       r_linear=True\n",
    "                   ),\n",
    "                   priors=spline_priors)\n",
    "]"
   ]
  },
  {
   "cell_type": "code",
   "execution_count": 7,
   "metadata": {},
   "outputs": [],
   "source": [
    "model = SFMAModel(data, variables)"
   ]
  },
  {
   "cell_type": "code",
   "execution_count": 8,
   "metadata": {},
   "outputs": [
    {
     "name": "stderr",
     "output_type": "stream",
     "text": [
      "/Users/zhengp/code/sfma/env/lib/python3.8/site-packages/scipy/optimize/_trustregion_constr/projections.py:181: UserWarning: Singular Jacobian matrix. Using SVD decomposition to perform the factorizations.\n",
      "  warn('Singular Jacobian matrix. Using SVD decomposition to ' +\n"
     ]
    }
   ],
   "source": [
    "model.fit(outlier_pct=0.15, num_steps=10)"
   ]
  },
  {
   "cell_type": "code",
   "execution_count": 10,
   "metadata": {},
   "outputs": [
    {
     "data": {
      "text/plain": [
       " barrier_parameter: 2.048000000000001e-09\n",
       " barrier_tolerance: 2.048000000000001e-09\n",
       "          cg_niter: 919\n",
       "      cg_stop_cond: 4\n",
       "            constr: [array([ 3.13557799e-02,  2.76338319e-02,  2.41469543e-02,  2.08951471e-02,\n",
       "        1.78784103e-02,  1.50967440e-02,  1.25501480e-02,  1.02386224e-02,\n",
       "        8.16216721e-03,  6.32078242e-03,  4.71446803e-03,  3.34322404e-03,\n",
       "        2.20705044e-03,  1.30594725e-03,  6.39914450e-04,  2.08952052e-04,\n",
       "        1.30600522e-05,  5.84659696e-10,  5.83709846e-10,  5.82779488e-10,\n",
       "        5.81868631e-10,  5.80977270e-10,  5.80105384e-10,  5.79253019e-10,\n",
       "        5.78420121e-10,  5.77606729e-10,  5.76812827e-10,  5.76038411e-10,\n",
       "        5.75283505e-10,  5.74548076e-10,  5.73832135e-10,  5.73135733e-10,\n",
       "        5.72458761e-10,  5.72018294e-10,  5.72018294e-10,  5.72018294e-10,\n",
       "        5.72018294e-10,  5.72018294e-10,  5.72018294e-10,  5.72018294e-10,\n",
       "        5.72018294e-10,  5.72018294e-10,  5.72018294e-10,  5.72018294e-10,\n",
       "        5.72018294e-10,  5.72018294e-10,  5.72018294e-10,  5.72018294e-10,\n",
       "        5.72018294e-10,  5.72018294e-10, -2.09715847e-03, -1.76602819e-03,\n",
       "       -1.43489790e-03, -1.10376762e-03, -7.72637331e-04, -4.41507047e-04,\n",
       "       -1.10376762e-04, -5.12930627e-13, -4.85471906e-13, -4.58013402e-13,\n",
       "       -4.30554030e-13, -4.03095092e-13, -3.75635287e-13,  0.00000000e+00,\n",
       "        0.00000000e+00,  0.00000000e+00,  0.00000000e+00,  0.00000000e+00,\n",
       "        0.00000000e+00,  0.00000000e+00]), array([ 6.61915243e-01,  9.74460345e-01,  9.74460357e-01,  9.74460368e-01,\n",
       "        9.74460374e-01,  4.37449725e-02, -1.60417989e-22])]\n",
       "       constr_nfev: [0, 0]\n",
       "       constr_nhev: [0, 0]\n",
       "       constr_njev: [0, 0]\n",
       "    constr_penalty: 8981.2574591711\n",
       "  constr_violation: 1.6041798923053217e-22\n",
       "    execution_time: 1.1420910358428955\n",
       "               fun: -8032.09867161259\n",
       "              grad: array([-4.99490129e-04, -2.61761538e+03,  1.21966654e+03,  8.90432496e+02,\n",
       "        5.07516035e+02,  3.10956274e-05, -1.20079942e+07])\n",
       "               jac: [array([[-1.00324016e-01,  1.00324016e-01,  0.00000000e+00,\n",
       "         0.00000000e+00,  0.00000000e+00,  0.00000000e+00,\n",
       "         0.00000000e+00],\n",
       "       [-8.84155011e-02,  8.25552582e-02,  5.76622833e-03,\n",
       "         9.40145924e-05,  0.00000000e+00,  0.00000000e+00,\n",
       "         0.00000000e+00],\n",
       "       [-7.72591028e-02,  6.61027045e-02,  1.07803399e-02,\n",
       "         3.76058369e-04,  0.00000000e+00,  0.00000000e+00,\n",
       "         0.00000000e+00],\n",
       "       [-6.68548212e-02,  5.09663551e-02,  1.50423348e-02,\n",
       "         8.46131331e-04,  0.00000000e+00,  0.00000000e+00,\n",
       "         0.00000000e+00],\n",
       "       [-5.72026564e-02,  3.71462100e-02,  1.85522129e-02,\n",
       "         1.50423348e-03,  0.00000000e+00,  0.00000000e+00,\n",
       "         0.00000000e+00],\n",
       "       [-4.83026083e-02,  2.46422693e-02,  2.13099743e-02,\n",
       "         2.35036481e-03,  0.00000000e+00,  0.00000000e+00,\n",
       "         0.00000000e+00],\n",
       "       [-4.01546770e-02,  1.34545328e-02,  2.33156189e-02,\n",
       "         3.38452533e-03,  0.00000000e+00,  0.00000000e+00,\n",
       "         0.00000000e+00],\n",
       "       [-3.27588624e-02,  3.58300058e-03,  2.45691468e-02,\n",
       "         4.60671503e-03,  0.00000000e+00,  0.00000000e+00,\n",
       "         0.00000000e+00],\n",
       "       [-2.61151645e-02, -4.97232733e-03,  2.50705580e-02,\n",
       "         6.01693391e-03,  0.00000000e+00,  0.00000000e+00,\n",
       "         0.00000000e+00],\n",
       "       [-2.02235834e-02, -1.22114509e-02,  2.48198524e-02,\n",
       "         7.61518198e-03,  0.00000000e+00,  0.00000000e+00,\n",
       "         0.00000000e+00],\n",
       "       [-1.50841190e-02, -1.81343703e-02,  2.38170301e-02,\n",
       "         9.40145924e-03,  0.00000000e+00,  0.00000000e+00,\n",
       "         0.00000000e+00],\n",
       "       [-1.06967714e-02, -2.27410853e-02,  2.20620910e-02,\n",
       "         1.13757657e-02,  0.00000000e+00,  0.00000000e+00,\n",
       "         0.00000000e+00],\n",
       "       [-7.06154049e-03, -2.60315960e-02,  1.95550352e-02,\n",
       "         1.35381013e-02,  0.00000000e+00,  0.00000000e+00,\n",
       "         0.00000000e+00],\n",
       "       [-4.17842633e-03, -2.80059025e-02,  1.62958627e-02,\n",
       "         1.58884661e-02,  0.00000000e+00,  0.00000000e+00,\n",
       "         0.00000000e+00],\n",
       "       [-2.04742890e-03, -2.86640046e-02,  1.22845734e-02,\n",
       "         1.84268601e-02,  0.00000000e+00,  0.00000000e+00,\n",
       "         0.00000000e+00],\n",
       "       [-6.68548212e-04, -2.80059025e-02,  7.52116739e-03,\n",
       "         2.11532833e-02,  0.00000000e+00,  0.00000000e+00,\n",
       "         0.00000000e+00],\n",
       "       [-4.17842633e-05, -2.60315960e-02,  2.00564464e-03,\n",
       "         2.40677356e-02,  0.00000000e+00,  0.00000000e+00,\n",
       "         0.00000000e+00],\n",
       "       [ 0.00000000e+00, -2.30753594e-02, -3.92772075e-03,\n",
       "         2.68359431e-02,  1.67137053e-04,  0.00000000e+00,\n",
       "         0.00000000e+00],\n",
       "       [ 0.00000000e+00, -2.02235834e-02, -9.19253792e-03,\n",
       "         2.83715148e-02,  1.04460658e-03,  0.00000000e+00,\n",
       "         0.00000000e+00],\n",
       "       [ 0.00000000e+00, -1.75598366e-02, -1.37052384e-02,\n",
       "         2.85908821e-02,  2.67419285e-03,  0.00000000e+00,\n",
       "         0.00000000e+00],\n",
       "       [ 0.00000000e+00, -1.50841190e-02, -1.74658220e-02,\n",
       "         2.74940452e-02,  5.05589586e-03,  0.00000000e+00,\n",
       "         0.00000000e+00],\n",
       "       [ 0.00000000e+00, -1.27964306e-02, -2.04742890e-02,\n",
       "         2.50810040e-02,  8.18971560e-03,  0.00000000e+00,\n",
       "         0.00000000e+00],\n",
       "       [ 0.00000000e+00, -1.06967714e-02, -2.27306392e-02,\n",
       "         2.13517585e-02,  1.20756521e-02,  0.00000000e+00,\n",
       "         0.00000000e+00],\n",
       "       [ 0.00000000e+00, -8.78514135e-03, -2.42348727e-02,\n",
       "         1.63063087e-02,  1.67137053e-02,  0.00000000e+00,\n",
       "         0.00000000e+00],\n",
       "       [ 0.00000000e+00, -7.06154049e-03, -2.49869894e-02,\n",
       "         9.94465466e-03,  2.21038753e-02,  0.00000000e+00,\n",
       "         0.00000000e+00],\n",
       "       [ 0.00000000e+00, -5.52596882e-03, -2.49869894e-02,\n",
       "         2.26679628e-03,  2.82461620e-02,  0.00000000e+00,\n",
       "         0.00000000e+00],\n",
       "       [ 0.00000000e+00, -4.17842633e-03, -2.42348727e-02,\n",
       "        -6.72726639e-03,  3.51405654e-02,  0.00000000e+00,\n",
       "         0.00000000e+00],\n",
       "       [ 0.00000000e+00, -3.01891302e-03, -2.27306392e-02,\n",
       "        -1.70375333e-02,  4.27870856e-02,  0.00000000e+00,\n",
       "         0.00000000e+00],\n",
       "       [ 0.00000000e+00, -2.04742890e-03, -2.04742890e-02,\n",
       "        -2.86640046e-02,  5.11857225e-02,  0.00000000e+00,\n",
       "         0.00000000e+00],\n",
       "       [ 0.00000000e+00, -1.26397396e-03, -1.74658220e-02,\n",
       "        -4.16066802e-02,  6.03364762e-02,  0.00000000e+00,\n",
       "         0.00000000e+00],\n",
       "       [ 0.00000000e+00, -6.68548212e-04, -1.37052384e-02,\n",
       "        -5.58655600e-02,  7.02393466e-02,  0.00000000e+00,\n",
       "         0.00000000e+00],\n",
       "       [ 0.00000000e+00, -2.61151645e-04, -9.19253792e-03,\n",
       "        -7.14406441e-02,  8.08943337e-02,  0.00000000e+00,\n",
       "         0.00000000e+00],\n",
       "       [ 0.00000000e+00, -4.17842633e-05, -3.92772075e-03,\n",
       "        -8.83319326e-02,  9.23014376e-02,  0.00000000e+00,\n",
       "         0.00000000e+00],\n",
       "       [ 0.00000000e+00,  0.00000000e+00,  0.00000000e+00,\n",
       "        -1.00324016e-01,  1.00324016e-01,  0.00000000e+00,\n",
       "         0.00000000e+00],\n",
       "       [ 0.00000000e+00,  0.00000000e+00,  0.00000000e+00,\n",
       "        -1.00324016e-01,  1.00324016e-01,  0.00000000e+00,\n",
       "         0.00000000e+00],\n",
       "       [ 0.00000000e+00,  0.00000000e+00,  0.00000000e+00,\n",
       "        -1.00324016e-01,  1.00324016e-01,  0.00000000e+00,\n",
       "         0.00000000e+00],\n",
       "       [ 0.00000000e+00,  0.00000000e+00,  0.00000000e+00,\n",
       "        -1.00324016e-01,  1.00324016e-01,  0.00000000e+00,\n",
       "         0.00000000e+00],\n",
       "       [ 0.00000000e+00,  0.00000000e+00,  0.00000000e+00,\n",
       "        -1.00324016e-01,  1.00324016e-01,  0.00000000e+00,\n",
       "         0.00000000e+00],\n",
       "       [ 0.00000000e+00,  0.00000000e+00,  0.00000000e+00,\n",
       "        -1.00324016e-01,  1.00324016e-01,  0.00000000e+00,\n",
       "         0.00000000e+00],\n",
       "       [ 0.00000000e+00,  0.00000000e+00,  0.00000000e+00,\n",
       "        -1.00324016e-01,  1.00324016e-01,  0.00000000e+00,\n",
       "         0.00000000e+00],\n",
       "       [ 0.00000000e+00,  0.00000000e+00,  0.00000000e+00,\n",
       "        -1.00324016e-01,  1.00324016e-01,  0.00000000e+00,\n",
       "         0.00000000e+00],\n",
       "       [ 0.00000000e+00,  0.00000000e+00,  0.00000000e+00,\n",
       "        -1.00324016e-01,  1.00324016e-01,  0.00000000e+00,\n",
       "         0.00000000e+00],\n",
       "       [ 0.00000000e+00,  0.00000000e+00,  0.00000000e+00,\n",
       "        -1.00324016e-01,  1.00324016e-01,  0.00000000e+00,\n",
       "         0.00000000e+00],\n",
       "       [ 0.00000000e+00,  0.00000000e+00,  0.00000000e+00,\n",
       "        -1.00324016e-01,  1.00324016e-01,  0.00000000e+00,\n",
       "         0.00000000e+00],\n",
       "       [ 0.00000000e+00,  0.00000000e+00,  0.00000000e+00,\n",
       "        -1.00324016e-01,  1.00324016e-01,  0.00000000e+00,\n",
       "         0.00000000e+00],\n",
       "       [ 0.00000000e+00,  0.00000000e+00,  0.00000000e+00,\n",
       "        -1.00324016e-01,  1.00324016e-01,  0.00000000e+00,\n",
       "         0.00000000e+00],\n",
       "       [ 0.00000000e+00,  0.00000000e+00,  0.00000000e+00,\n",
       "        -1.00324016e-01,  1.00324016e-01,  0.00000000e+00,\n",
       "         0.00000000e+00],\n",
       "       [ 0.00000000e+00,  0.00000000e+00,  0.00000000e+00,\n",
       "        -1.00324016e-01,  1.00324016e-01,  0.00000000e+00,\n",
       "         0.00000000e+00],\n",
       "       [ 0.00000000e+00,  0.00000000e+00,  0.00000000e+00,\n",
       "        -1.00324016e-01,  1.00324016e-01,  0.00000000e+00,\n",
       "         0.00000000e+00],\n",
       "       [ 0.00000000e+00,  0.00000000e+00,  0.00000000e+00,\n",
       "        -1.00324016e-01,  1.00324016e-01,  0.00000000e+00,\n",
       "         0.00000000e+00],\n",
       "       [ 6.70993881e-03, -1.00649082e-02,  3.35496940e-03,\n",
       "         0.00000000e+00,  0.00000000e+00,  0.00000000e+00,\n",
       "         0.00000000e+00],\n",
       "       [ 5.65047478e-03, -8.21084617e-03,  2.29550538e-03,\n",
       "         2.64866006e-04,  0.00000000e+00,  0.00000000e+00,\n",
       "         0.00000000e+00],\n",
       "       [ 4.59101076e-03, -6.35678413e-03,  1.23604136e-03,\n",
       "         5.29732011e-04,  0.00000000e+00,  0.00000000e+00,\n",
       "         0.00000000e+00],\n",
       "       [ 3.53154674e-03, -4.50272209e-03,  1.76577337e-04,\n",
       "         7.94598017e-04,  0.00000000e+00,  0.00000000e+00,\n",
       "         0.00000000e+00],\n",
       "       [ 2.47208272e-03, -2.64866006e-03, -8.82886685e-04,\n",
       "         1.05946402e-03,  0.00000000e+00,  0.00000000e+00,\n",
       "         0.00000000e+00],\n",
       "       [ 1.41261870e-03, -7.94598017e-04, -1.94235071e-03,\n",
       "         1.32433003e-03,  0.00000000e+00,  0.00000000e+00,\n",
       "         0.00000000e+00],\n",
       "       [ 3.53154674e-04,  1.05946402e-03, -3.00181473e-03,\n",
       "         1.58919603e-03,  0.00000000e+00,  0.00000000e+00,\n",
       "         0.00000000e+00],\n",
       "       [ 0.00000000e+00,  1.50090736e-03, -2.64866006e-03,\n",
       "         4.41443343e-04,  7.06309348e-04,  0.00000000e+00,\n",
       "         0.00000000e+00],\n",
       "       [ 0.00000000e+00,  1.23604136e-03, -1.58919603e-03,\n",
       "        -1.41261870e-03,  1.76577337e-03,  0.00000000e+00,\n",
       "         0.00000000e+00],\n",
       "       [ 0.00000000e+00,  9.71175354e-04, -5.29732011e-04,\n",
       "        -3.26668073e-03,  2.82523739e-03,  0.00000000e+00,\n",
       "         0.00000000e+00],\n",
       "       [ 0.00000000e+00,  7.06309348e-04,  5.29732011e-04,\n",
       "        -5.12074277e-03,  3.88470141e-03,  0.00000000e+00,\n",
       "         0.00000000e+00],\n",
       "       [ 0.00000000e+00,  4.41443343e-04,  1.58919603e-03,\n",
       "        -6.97480481e-03,  4.94416544e-03,  0.00000000e+00,\n",
       "         0.00000000e+00],\n",
       "       [ 0.00000000e+00,  1.76577337e-04,  2.64866006e-03,\n",
       "        -8.82886685e-03,  6.00362946e-03,  0.00000000e+00,\n",
       "         0.00000000e+00],\n",
       "       [ 0.00000000e+00,  0.00000000e+00,  0.00000000e+00,\n",
       "         0.00000000e+00,  0.00000000e+00,  0.00000000e+00,\n",
       "         0.00000000e+00],\n",
       "       [ 0.00000000e+00,  0.00000000e+00,  0.00000000e+00,\n",
       "         0.00000000e+00,  0.00000000e+00,  0.00000000e+00,\n",
       "         0.00000000e+00],\n",
       "       [ 0.00000000e+00,  0.00000000e+00,  0.00000000e+00,\n",
       "         0.00000000e+00,  0.00000000e+00,  0.00000000e+00,\n",
       "         0.00000000e+00],\n",
       "       [ 0.00000000e+00,  0.00000000e+00,  0.00000000e+00,\n",
       "         0.00000000e+00,  0.00000000e+00,  0.00000000e+00,\n",
       "         0.00000000e+00],\n",
       "       [ 0.00000000e+00,  0.00000000e+00,  0.00000000e+00,\n",
       "         0.00000000e+00,  0.00000000e+00,  0.00000000e+00,\n",
       "         0.00000000e+00],\n",
       "       [ 0.00000000e+00,  0.00000000e+00,  0.00000000e+00,\n",
       "         0.00000000e+00,  0.00000000e+00,  0.00000000e+00,\n",
       "         0.00000000e+00],\n",
       "       [ 0.00000000e+00,  0.00000000e+00,  0.00000000e+00,\n",
       "         0.00000000e+00,  0.00000000e+00,  0.00000000e+00,\n",
       "         0.00000000e+00]]), array([[1., 0., 0., 0., 0., 0., 0.],\n",
       "       [0., 1., 0., 0., 0., 0., 0.],\n",
       "       [0., 0., 1., 0., 0., 0., 0.],\n",
       "       [0., 0., 0., 1., 0., 0., 0.],\n",
       "       [0., 0., 0., 0., 1., 0., 0.],\n",
       "       [0., 0., 0., 0., 0., 1., 0.],\n",
       "       [0., 0., 0., 0., 0., 0., 1.]])]\n",
       "   lagrangian_grad: array([-1.62279335e-04, -1.60912119e-04, -1.60908734e-04, -1.60908286e-04,\n",
       "       -1.60908556e-04,  5.82858388e-08,  0.00000000e+00])\n",
       "           message: '`xtol` termination condition is satisfied.'\n",
       "            method: 'tr_interior_point'\n",
       "              nfev: 364\n",
       "              nhev: 167\n",
       "               nit: 325\n",
       "             niter: 325\n",
       "              njev: 167\n",
       "        optimality: 0.00016227933511347352\n",
       "            status: 2\n",
       "           success: True\n",
       "         tr_radius: 8.280549627422856e-09\n",
       "                 v: [array([-1.40053628e-04, -1.58913835e-04, -1.81852544e-04, -2.10191830e-04,\n",
       "       -2.45626624e-04, -2.90930748e-04, -3.49945899e-04, -4.28916543e-04,\n",
       "       -5.38018439e-04, -6.94752686e-04, -9.31552002e-04, -1.31357320e-03,\n",
       "       -1.99011106e-03, -3.36219407e-03, -6.86210873e-03, -2.10130709e-02,\n",
       "       -3.36226016e-01, -2.49938032e+03, -2.50677644e+03, -2.51406858e+03,\n",
       "       -2.52073360e+03, -2.52833131e+03, -2.53540860e+03, -2.54225563e+03,\n",
       "       -2.54901332e+03, -2.55615944e+03, -2.56264618e+03, -2.56902844e+03,\n",
       "       -2.57665697e+03, -2.58225751e+03, -2.58866656e+03, -2.59443721e+03,\n",
       "       -2.60082469e+03, -2.60492215e+03, -2.60492211e+03, -2.60492042e+03,\n",
       "       -2.60492048e+03, -2.60492048e+03, -2.60492048e+03, -2.60492048e+03,\n",
       "       -2.60492048e+03, -2.60492048e+03, -2.60492048e+03, -2.60492048e+03,\n",
       "       -2.60492048e+03, -2.60492048e+03, -2.60492048e+03, -2.60492067e+03,\n",
       "       -2.60494126e+03, -2.60490941e+03,  2.09328275e-03,  2.48653195e-03,\n",
       "        3.06058358e-03,  3.97794783e-03,  5.68682791e-03,  9.94519081e-03,\n",
       "        3.97751900e-02,  5.63432567e+05,  5.03596663e+05,  4.28597825e+05,\n",
       "        4.37319296e+05,  1.95697920e+05,  2.24839064e+04,  8.92488921e-02,\n",
       "       -5.26893683e-02, -2.45347074e-02,  3.74359684e-02,  6.19239224e-03,\n",
       "        3.94018843e-02,  1.48880257e-02]), array([ 0.00000000e+00,  0.00000000e+00,  0.00000000e+00,  0.00000000e+00,\n",
       "        0.00000000e+00, -3.10373416e-05,  1.20079942e+07])]\n",
       "                 x: array([ 6.61915243e-01,  9.74460345e-01,  9.74460357e-01,  9.74460368e-01,\n",
       "        9.74460374e-01,  4.37449725e-02, -1.60417989e-22])"
      ]
     },
     "execution_count": 10,
     "metadata": {},
     "output_type": "execute_result"
    }
   ],
   "source": [
    "model.opt_result"
   ]
  },
  {
   "cell_type": "markdown",
   "metadata": {},
   "source": [
    "## Predict model"
   ]
  },
  {
   "cell_type": "code",
   "execution_count": 11,
   "metadata": {},
   "outputs": [],
   "source": [
    "df_pred = pd.DataFrame({\n",
    "    \"physicians\": np.linspace(df.physicians.min(), df.physicians.max(), 100)\n",
    "})"
   ]
  },
  {
   "cell_type": "code",
   "execution_count": 12,
   "metadata": {},
   "outputs": [],
   "source": [
    "df_pred[\"pred\"] = model.predict(df_pred)"
   ]
  },
  {
   "cell_type": "code",
   "execution_count": 13,
   "metadata": {},
   "outputs": [
    {
     "data": {
      "text/plain": [
       "[<matplotlib.lines.Line2D at 0x1486d0670>]"
      ]
     },
     "execution_count": 13,
     "metadata": {},
     "output_type": "execute_result"
    },
    {
     "data": {
      "image/png": "[encoded data removed]",
      "text/plain": [
       "<Figure size 432x288 with 1 Axes>"
      ]
     },
     "metadata": {
      "needs_background": "light"
     },
     "output_type": "display_data"
    }
   ],
   "source": [
    "fig, ax = plt.subplots()\n",
    "outlier_indices = data.trim_weights == 0.0\n",
    "ax.scatter(df.physicians, df.uhc, color=\"gray\", edgecolor=\"none\", alpha=0.2)\n",
    "ax.scatter(df.physicians[outlier_indices], df.uhc[outlier_indices], color=\"red\", marker=\"x\", alpha=0.2)\n",
    "ax.plot(df_pred.physicians, df_pred.pred, color=\"red\")"
   ]
  },
  {
   "cell_type": "code",
   "execution_count": 14,
   "metadata": {},
   "outputs": [
    {
     "data": {
      "text/plain": [
       "array([ 6.61915243e-01,  9.74460345e-01,  9.74460357e-01,  9.74460368e-01,\n",
       "        9.74460374e-01,  4.37449725e-02, -1.60417989e-22])"
      ]
     },
     "execution_count": 14,
     "metadata": {},
     "output_type": "execute_result"
    }
   ],
   "source": [
    "model.opt_vars"
   ]
  },
  {
   "cell_type": "code",
   "execution_count": null,
   "metadata": {},
   "outputs": [],
   "source": []
  }
 ],
 "metadata": {
  "kernelspec": {
   "display_name": "Python 3 (ipykernel)",
   "language": "python",
   "name": "python3"
  },
  "language_info": {
   "codemirror_mode": {
    "name": "ipython",
    "version": 3
   },
   "file_extension": ".py",
   "mimetype": "text/x-python",
   "name": "python",
   "nbconvert_exporter": "python",
   "pygments_lexer": "ipython3",
   "version": "3.8.2"
  }
 },
 "nbformat": 4,
 "nbformat_minor": 4
}
