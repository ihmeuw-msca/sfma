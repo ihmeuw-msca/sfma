{
 "cells": [
  {
   "cell_type": "markdown",
   "metadata": {},
   "source": [
    "#### Read in data"
   ]
  },
  {
   "cell_type": "code",
   "execution_count": null,
   "metadata": {
    "scrolled": true
   },
   "outputs": [],
   "source": [
    "import numpy as np\n",
    "import pandas as pd\n",
    "df = pd.read_csv('msfa_data.csv')\n",
    "df['obs_se'] = .05\n",
    "df['group'] = np.arange(df.shape[0])\n",
    "df.head()"
   ]
  },
  {
   "cell_type": "markdown",
   "metadata": {},
   "source": [
    "#### Build inputs"
   ]
  },
  {
   "cell_type": "code",
   "execution_count": null,
   "metadata": {},
   "outputs": [],
   "source": [
    "from anml.parameter.parameter import Parameter, ParameterSet\n",
    "from anml.parameter.prior import GaussianPrior, Prior\n",
    "from anml.parameter.processors import process_all\n",
    "from anml.parameter.spline_variable import Spline, SplineLinearConstr\n",
    "from anml.parameter.variables import Intercept\n",
    "from sfma.data import DataSpecs\n",
    "from sfma.data import Data"
   ]
  },
  {
   "cell_type": "code",
   "execution_count": null,
   "metadata": {},
   "outputs": [],
   "source": [
    "data_spec = DataSpecs(col_obs='uhc', col_obs_se='obs_se')\n",
    "\n",
    "increasing = SplineLinearConstr(order=1, y_bounds=[0.0, np.inf], grid_size=20)\n",
    "concave = SplineLinearConstr(order=2, y_bounds=[-np.inf, 0.0], grid_size=20)                                                \n",
    "\n",
    "spline = Spline(\n",
    "    covariate='physicians',\n",
    "    knots_type='domain', knots_num=4, \n",
    "    degree=3, r_linear=True, include_intercept=True, \n",
    "    derivative_constr=[increasing, concave],\n",
    ")\n",
    "spline.set_fe_prior(Prior(lower_bound=[0.0] * spline.num_fe, upper_bound=[1.0] * spline.num_fe))\n",
    "param_set_marginal = ParameterSet([Parameter(param_name='beta', variables=[spline])])\n",
    "process_all(param_set_marginal, df)\n",
    "\n",
    "\n",
    "intercept = Intercept(add_re=True, col_group='group', re_prior=GaussianPrior(lower_bound=[0.0], upper_bound=[np.inf]))\n",
    "param_set_v = ParameterSet([Parameter(param_name='v', variables=[intercept])])\n",
    "process_all(param_set_v, df)\n",
    "\n",
    "data = Data(data_spec)\n",
    "data.process(df)"
   ]
  },
  {
   "cell_type": "markdown",
   "metadata": {},
   "source": [
    "#### Build Models"
   ]
  },
  {
   "cell_type": "code",
   "execution_count": null,
   "metadata": {},
   "outputs": [],
   "source": [
    "from sfma.models.maximal import VModel, UModel\n",
    "from sfma.models.marginal import SimpleBetaEtaModel"
   ]
  },
  {
   "cell_type": "code",
   "execution_count": null,
   "metadata": {},
   "outputs": [],
   "source": [
    "marginal_model = SimpleBetaEtaModel(param_set_marginal)\n",
    "v_model = VModel(param_set_v) "
   ]
  },
  {
   "cell_type": "markdown",
   "metadata": {},
   "source": [
    "#### Solve"
   ]
  },
  {
   "cell_type": "code",
   "execution_count": null,
   "metadata": {},
   "outputs": [],
   "source": [
    "from anml.solvers.base import ClosedFormSolver, ScipyOpt, IPOPTSolver"
   ]
  },
  {
   "cell_type": "code",
   "execution_count": null,
   "metadata": {},
   "outputs": [],
   "source": [
    "marginal_solver = IPOPTSolver(marginal_model)\n",
    "v_solver = ClosedFormSolver(v_model)"
   ]
  },
  {
   "cell_type": "code",
   "execution_count": null,
   "metadata": {},
   "outputs": [],
   "source": [
    "from sfma.solver import SimpleSolver"
   ]
  },
  {
   "cell_type": "code",
   "execution_count": null,
   "metadata": {},
   "outputs": [],
   "source": [
    "ss = SimpleSolver([marginal_solver, v_solver])"
   ]
  },
  {
   "cell_type": "code",
   "execution_count": null,
   "metadata": {},
   "outputs": [],
   "source": [
    "x_init = np.random.randn(marginal_solver.model.x_dim)\n",
    "ss.fit(x_init, data)"
   ]
  },
  {
   "cell_type": "markdown",
   "metadata": {},
   "source": [
    "\n",
    "#### Plot"
   ]
  },
  {
   "cell_type": "code",
   "execution_count": null,
   "metadata": {},
   "outputs": [],
   "source": [
    "import matplotlib.pyplot as plt"
   ]
  },
  {
   "cell_type": "code",
   "execution_count": null,
   "metadata": {},
   "outputs": [],
   "source": [
    "plt.plot(df['physicians'].to_numpy(), data.obs, '.', label='data')\n",
    "plt.plot(df['physicians'].to_numpy(), data.obs + ss.x_opt[1], '.', label='data + v')\n",
    "plt.plot(df['physicians'].to_numpy(), ss.predict(), '.r', label='x*beta')"
   ]
  },
  {
   "cell_type": "code",
   "execution_count": null,
   "metadata": {},
   "outputs": [],
   "source": []
  }
 ],
 "metadata": {
  "kernelspec": {
   "display_name": "Python 3 (ipykernel)",
   "language": "python",
   "name": "python3"
  },
  "language_info": {
   "codemirror_mode": {
    "name": "ipython",
    "version": 3
   },
   "file_extension": ".py",
   "mimetype": "text/x-python",
   "name": "python",
   "nbconvert_exporter": "python",
   "pygments_lexer": "ipython3",
   "version": "3.8.2"
  }
 },
 "nbformat": 4,
 "nbformat_minor": 4
}
