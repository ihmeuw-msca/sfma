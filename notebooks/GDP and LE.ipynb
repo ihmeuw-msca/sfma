{
 "cells": [
  {
   "cell_type": "code",
   "execution_count": null,
   "metadata": {},
   "outputs": [],
   "source": [
    "import pandas as pd\n",
    "import numpy as np\n",
    "import matplotlib.pyplot as plt\n",
    "from sfma.api import SFMAModel"
   ]
  },
  {
   "cell_type": "code",
   "execution_count": null,
   "metadata": {},
   "outputs": [],
   "source": [
    "df = pd.read_csv(\"../data/gdp-le.csv\")"
   ]
  },
  {
   "cell_type": "code",
   "execution_count": null,
   "metadata": {},
   "outputs": [],
   "source": [
    "df = df.loc[~np.isnan(df.gdp.values)]\n",
    "df = df.loc[~np.isnan(df[[\"le\"]].values)]\n",
    "\n",
    "# Adding intercept and null value (for zeroes)\n",
    "df[\"int\"] = 1.\n",
    "df[\"null\"] = 1e-3\n",
    "\n",
    "# Log of life expectancy and GDP for modeling\n",
    "df[\"log.le\"] = np.log(df[\"le\"])\n",
    "df[\"log.gdp\"] = np.log(df[\"gdp\"])\n",
    "\n",
    "df.sort_values('gdp', inplace=True)"
   ]
  },
  {
   "cell_type": "code",
   "execution_count": null,
   "metadata": {},
   "outputs": [],
   "source": [
    "fig, ax = plt.subplots(1, 2, figsize=(16, 8))\n",
    "ax[0].scatter(df[[\"gdp\"]], df[[\"le\"]], alpha=0.3)\n",
    "ax[1].scatter(np.log(df[[\"gdp\"]]), np.log(df[[\"le\"]]), alpha=0.3)"
   ]
  },
  {
   "cell_type": "code",
   "execution_count": null,
   "metadata": {},
   "outputs": [],
   "source": [
    "model = SFMAModel(\n",
    "    df=df,\n",
    "    col_output='log.le',\n",
    "    col_se='int',\n",
    "    col_input='log.gdp',\n",
    "    concave=True,\n",
    "    knots_type='domain',\n",
    "    knots_num=4,\n",
    "    # include_gamma=True,\n",
    "    increasing=True,\n",
    "    r_linear=True,\n",
    "    pct_trimming=0.05,\n",
    "    constr_grid_num=100\n",
    ")\n",
    "model.fit(step_size=100)"
   ]
  },
  {
   "cell_type": "code",
   "execution_count": null,
   "metadata": {},
   "outputs": [],
   "source": [
    "model.plot_frontier(df)"
   ]
  },
  {
   "cell_type": "code",
   "execution_count": null,
   "metadata": {},
   "outputs": [],
   "source": []
  }
 ],
 "metadata": {
  "kernelspec": {
   "display_name": "Python 3 (ipykernel)",
   "language": "python",
   "name": "python3"
  },
  "language_info": {
   "codemirror_mode": {
    "name": "ipython",
    "version": 3
   },
   "file_extension": ".py",
   "mimetype": "text/x-python",
   "name": "python",
   "nbconvert_exporter": "python",
   "pygments_lexer": "ipython3",
   "version": "3.8.2"
  }
 },
 "nbformat": 4,
 "nbformat_minor": 4
}
