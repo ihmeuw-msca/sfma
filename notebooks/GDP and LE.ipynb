{
 "cells": [
  {
   "cell_type": "code",
   "execution_count": null,
   "metadata": {},
   "outputs": [],
   "source": [
    "import pandas as pd\n",
    "import numpy as np\n",
    "import matplotlib.pyplot as plt\n",
    "\n",
    "from sfma import Data, Variable, SplineVariable, SplineSpecs, SplineUniformPrior\n",
    "from sfma.model import SFMAModel"
   ]
  },
  {
   "cell_type": "code",
   "execution_count": null,
   "metadata": {},
   "outputs": [],
   "source": [
    "df = pd.read_csv(\"../data/gdp-le.csv\")"
   ]
  },
  {
   "cell_type": "code",
   "execution_count": null,
   "metadata": {},
   "outputs": [],
   "source": [
    "df = df.loc[~np.isnan(df.gdp.values)]\n",
    "df = df.loc[~np.isnan(df[[\"le\"]].values)]\n",
    "\n",
    "df[\"weights\"] = 10000.\n",
    "\n",
    "df[\"log.le\"] = np.log(df[\"le\"])\n",
    "df[\"log.gdp\"] = np.log(df[\"gdp\"])\n",
    "\n",
    "df.sort_values('gdp', inplace=True)"
   ]
  },
  {
   "cell_type": "code",
   "execution_count": null,
   "metadata": {},
   "outputs": [],
   "source": [
    "fig, ax = plt.subplots(1, 2, figsize=(16, 8))\n",
    "ax[0].scatter(df[[\"gdp\"]], df[[\"le\"]], alpha=0.3)\n",
    "ax[1].scatter(np.log(df[[\"gdp\"]]), np.log(df[[\"le\"]]), alpha=0.3)"
   ]
  },
  {
   "cell_type": "code",
   "execution_count": null,
   "metadata": {},
   "outputs": [],
   "source": [
    "x_var = \"log.gdp\"\n",
    "y_var = \"log.le\""
   ]
  },
  {
   "cell_type": "code",
   "execution_count": null,
   "metadata": {},
   "outputs": [],
   "source": [
    "data = Data(\n",
    "    col_obs=y_var,\n",
    "    col_weights=\"weights\",\n",
    "    col_covs=[x_var],\n",
    "    df=df\n",
    ")"
   ]
  },
  {
   "cell_type": "code",
   "execution_count": null,
   "metadata": {},
   "outputs": [],
   "source": [
    "priors = [\n",
    "    SplineUniformPrior(order=1, lb=0.0, ub=np.inf, size=20),\n",
    "    SplineUniformPrior(order=2, lb=-np.inf, ub=0.0, size=20)\n",
    "]\n",
    "\n",
    "variables = [\n",
    "    SplineVariable(x_var,\n",
    "                   spline_specs=SplineSpecs(knots=np.linspace(0.0, 1.0, 5),\n",
    "                                            degree=2,\n",
    "                                            r_linear=True,\n",
    "                                            l_linear=True,\n",
    "                                            knots_type=\"rel_domain\"),\n",
    "                   priors=priors)\n",
    "]"
   ]
  },
  {
   "cell_type": "code",
   "execution_count": null,
   "metadata": {},
   "outputs": [],
   "source": [
    "model = SFMAModel(data, variables)"
   ]
  },
  {
   "cell_type": "code",
   "execution_count": null,
   "metadata": {},
   "outputs": [],
   "source": [
    "model.fit(outlier_pct=0.02, trim_verbose=True,\n",
    "          eta_options={\"method\": \"bounded\", \"bounds\": [0.0, 1.0]})"
   ]
  },
  {
   "cell_type": "code",
   "execution_count": null,
   "metadata": {},
   "outputs": [],
   "source": [
    "df_pred = pd.DataFrame({\n",
    "    x_var: np.linspace(df[x_var].min(), df[x_var].max(), 100)\n",
    "})\n",
    "df_pred[\"pred\"] = model.predict(df_pred)"
   ]
  },
  {
   "cell_type": "code",
   "execution_count": null,
   "metadata": {},
   "outputs": [],
   "source": [
    "fig, ax = plt.subplots()\n",
    "outlier_indices = data.trim_weights == 0.0\n",
    "ax.scatter(df[x_var], df[y_var], color=\"gray\", edgecolor=\"none\", alpha=0.2)\n",
    "ax.scatter(df[x_var][outlier_indices], df[y_var][outlier_indices], color=\"red\", marker=\"x\", alpha=0.2)\n",
    "ax.plot(df_pred[x_var], df_pred.pred, color=\"red\")"
   ]
  },
  {
   "cell_type": "code",
   "execution_count": null,
   "metadata": {},
   "outputs": [],
   "source": []
  }
 ],
 "metadata": {
  "kernelspec": {
   "display_name": "Python 3 (ipykernel)",
   "language": "python",
   "name": "python3"
  },
  "language_info": {
   "codemirror_mode": {
    "name": "ipython",
    "version": 3
   },
   "file_extension": ".py",
   "mimetype": "text/x-python",
   "name": "python",
   "nbconvert_exporter": "python",
   "pygments_lexer": "ipython3",
   "version": "3.8.2"
  }
 },
 "nbformat": 4,
 "nbformat_minor": 4
}
